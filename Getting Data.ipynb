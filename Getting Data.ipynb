{
 "cells": [
  {
   "cell_type": "code",
   "execution_count": null,
   "id": "4899b9eb-d27d-48a0-be35-504279b6c7e2",
   "metadata": {},
   "outputs": [],
   "source": [
    "import openpyxl\n",
    "from openpyxl import load_workbook\n",
    "import pandas as pd"
   ]
  },
  {
   "cell_type": "code",
   "execution_count": null,
   "id": "af2ec594-58f4-4faf-b8c4-f435fc024d38",
   "metadata": {},
   "outputs": [],
   "source": [
    "workbook = load_workbook('Kanpur.xlsx')\n",
    "listSheets = workbook.sheetnames\n",
    "sheet1 = workbook[listSheets[0]]\n",
    "\n",
    "dfJan21 = pd.DataFrame(sheet1.values)\n",
    "tempDF = dfJan21.loc[13:16, 0:2]\n",
    "\n",
    "dfJan21PM25 = pd.DataFrame()\n",
    "\n",
    "dfJan21PM25 = dfJan21PM25.append(tempDF)\n",
    "\n",
    "i = 17\n",
    "while (dfJan21.loc[i,0] != None):\n",
    "    tempDF = dfJan21.loc[i, 0:2]\n",
    "    dfJan21PM25 = dfJan21PM25.append(tempDF)\n",
    "    i = i + 1\n",
    "\n",
    "dfJan21PM25.to_csv('Data_Processing_and_ARIMA/Data/Jan21PM25.csv')"
   ]
  },
  {
   "cell_type": "code",
   "execution_count": 6,
   "id": "4b90c249",
   "metadata": {},
   "outputs": [],
   "source": [
    "dfJan21 = pd.DataFrame(sheet1.values)\n",
    "tempDF = dfJan21.loc[13:16, [0,1,3]]\n",
    "\n",
    "dfJan21NO = pd.DataFrame()\n",
    "\n",
    "dfJan21NO = dfJan21NO.append(tempDF)\n",
    "\n",
    "i = 17\n",
    "while (dfJan21.loc[i,0] != None):\n",
    "    tempDF = dfJan21.loc[i, [0,1,3]]\n",
    "    dfJan21NO = dfJan21NO.append(tempDF)\n",
    "    i = i + 1\n",
    "\n",
    "dfJan21NO.to_csv('Data_Processing_and_ARIMA/Data/Jan21NO.csv')"
   ]
  },
  {
   "cell_type": "code",
   "execution_count": 7,
   "id": "15cf3b11",
   "metadata": {},
   "outputs": [],
   "source": [
    "dfJan21 = pd.DataFrame(sheet1.values)\n",
    "tempDF = dfJan21.loc[13:16, [0,1,4]]\n",
    "\n",
    "dfJan21NO2 = pd.DataFrame()\n",
    "\n",
    "dfJan21NO2 = dfJan21NO2.append(tempDF)\n",
    "\n",
    "i = 17\n",
    "while (dfJan21.loc[i,0] != None):\n",
    "    tempDF = dfJan21.loc[i, [0,1,4]]\n",
    "    dfJan21NO2 = dfJan21NO2.append(tempDF)\n",
    "    i = i + 1\n",
    "\n",
    "dfJan21NO2.to_csv('Data_Processing_and_ARIMA/Data/Jan21NO2.csv')"
   ]
  },
  {
   "cell_type": "code",
   "execution_count": 8,
   "id": "c21ec444",
   "metadata": {},
   "outputs": [],
   "source": [
    "dfJan21 = pd.DataFrame(sheet1.values)\n",
    "tempDF = dfJan21.loc[13:16, [0,1,5]]\n",
    "\n",
    "dfJan21NOx = pd.DataFrame()\n",
    "\n",
    "dfJan21NOx = dfJan21NOx.append(tempDF)\n",
    "\n",
    "i = 17\n",
    "while (dfJan21.loc[i,0] != None):\n",
    "    tempDF = dfJan21.loc[i, [0,1,5]]\n",
    "    dfJan21NOx = dfJan21NOx.append(tempDF)\n",
    "    i = i + 1\n",
    "\n",
    "dfJan21NOx.to_csv('Data_Processing_and_ARIMA/Data/Jan21NOx.csv')"
   ]
  },
  {
   "cell_type": "code",
   "execution_count": 9,
   "id": "11127dbc",
   "metadata": {},
   "outputs": [],
   "source": [
    "dfJan21 = pd.DataFrame(sheet1.values)\n",
    "tempDF = dfJan21.loc[13:16, [0,1,6]]\n",
    "\n",
    "dfJan21SO2 = pd.DataFrame()\n",
    "\n",
    "dfJan21SO2 = dfJan21SO2.append(tempDF)\n",
    "\n",
    "i = 17\n",
    "while (dfJan21.loc[i,0] != None):\n",
    "    tempDF = dfJan21.loc[i, [0,1,6]]\n",
    "    dfJan21SO2 = dfJan21SO2.append(tempDF)\n",
    "    i = i + 1\n",
    "\n",
    "dfJan21SO2.to_csv('Data_Processing_and_ARIMA/Data/Jan21SO2.csv')"
   ]
  },
  {
   "cell_type": "code",
   "execution_count": 10,
   "id": "e96dedf6",
   "metadata": {},
   "outputs": [],
   "source": [
    "dfJan21 = pd.DataFrame(sheet1.values)\n",
    "tempDF = dfJan21.loc[13:16, 0:6]\n",
    "\n",
    "dfJan21all = pd.DataFrame()\n",
    "\n",
    "dfJan21all = dfJan21all.append(tempDF)\n",
    "\n",
    "i = 17\n",
    "while (dfJan21.loc[i,0] != None):\n",
    "    tempDF = dfJan21.loc[i, 0:6]\n",
    "    dfJan21all = dfJan21all.append(tempDF)\n",
    "    i = i + 1\n",
    "\n",
    "dfJan21all.to_csv('Data_Processing_and_ARIMA/Data/Jan21all.csv')"
   ]
  },
  {
   "cell_type": "code",
   "execution_count": null,
   "id": "f951ffdc",
   "metadata": {},
   "outputs": [],
   "source": []
  }
 ],
 "metadata": {
  "kernelspec": {
   "display_name": "Python 3 (ipykernel)",
   "language": "python",
   "name": "python3"
  },
  "language_info": {
   "codemirror_mode": {
    "name": "ipython",
    "version": 3
   },
   "file_extension": ".py",
   "mimetype": "text/x-python",
   "name": "python",
   "nbconvert_exporter": "python",
   "pygments_lexer": "ipython3",
   "version": "3.12.1"
  }
 },
 "nbformat": 4,
 "nbformat_minor": 5
}
