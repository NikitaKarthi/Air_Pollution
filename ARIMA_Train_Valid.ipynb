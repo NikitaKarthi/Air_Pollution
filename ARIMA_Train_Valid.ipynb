{
 "cells": [
  {
   "cell_type": "code",
   "execution_count": 3,
   "id": "3d920355-3cfe-43ea-b8d9-1abff1e2450e",
   "metadata": {
    "tags": []
   },
   "outputs": [],
   "source": [
    "import pandas as pd\n",
    "import numpy as np"
   ]
  },
  {
   "cell_type": "markdown",
   "id": "eedc9ce8-bd9f-43c6-83df-56a54906d400",
   "metadata": {
    "tags": []
   },
   "source": [
    "# PM25"
   ]
  },
  {
   "cell_type": "markdown",
   "id": "5f5033c8-472e-4814-b708-407599f93ac7",
   "metadata": {},
   "source": [
    "## Train"
   ]
  },
  {
   "cell_type": "code",
   "execution_count": 4,
   "id": "ca973f81-d52f-4dff-9588-8436b97f28e2",
   "metadata": {
    "tags": []
   },
   "outputs": [],
   "source": [
    "xts_Jan21PM25_Stationary_DF = pd.read_csv('Data_Processing_and_ARIMA/Train/xts_Jan21PM25_Stationary_DF.csv')\n",
    "#xts_Jan21PM25_Stationary_DF.head(10)\n",
    "\n",
    "xts_Jan21PM25_Stationary_DF_data = xts_Jan21PM25_Stationary_DF.iloc[4: , [4]]\n",
    "#xts_Jan21PM25_Stationary_DF_data.head()\n",
    "\n",
    "xts_Jan21PM25_Stationary_DF_data = xts_Jan21PM25_Stationary_DF_data.apply(pd.to_numeric) # convert all columns of DataFrame\n",
    "\n",
    "xts_Jan21PM25_Stationary_DF_data_np = xts_Jan21PM25_Stationary_DF_data.to_numpy()\n",
    "xts_Jan21PM25_Stationary_DF_data_reshape = np.reshape(xts_Jan21PM25_Stationary_DF_data_np, (len(xts_Jan21PM25_Stationary_DF_data_np), -1))\n",
    "\n",
    "xts_Jan21PM25_Stationary_DF_data_reshape = xts_Jan21PM25_Stationary_DF_data_reshape.flatten()\n",
    "xts_Jan21PM25_Stationary_DF_data_reshape = pd.DataFrame(xts_Jan21PM25_Stationary_DF_data_reshape)\n",
    "\n",
    "X_train, y_train = pd.DataFrame(), pd.DataFrame()\n",
    "for i in range(5, len(xts_Jan21PM25_Stationary_DF_data_np)):\n",
    "    a = xts_Jan21PM25_Stationary_DF_data_reshape[i-5:i].transpose()\n",
    "    a = a.rename(columns={i-5:0,i-4:1,i-3:2,i-2:3,i-1:4}, index={0:i})\n",
    "    X_train = pd.concat([X_train, a])\n",
    "    y_train = pd.concat([y_train, xts_Jan21PM25_Stationary_DF_data_reshape[i:i+1]])\n",
    "    \n",
    "\n",
    "x_train = X_train.to_numpy()\n",
    "#X_train.shape\n",
    "TrainX = np.reshape(x_train, (x_train.shape[0], x_train.shape[1], 1))  \n",
    "#TrainX\n",
    "\n",
    "\n",
    "#####################################################################################\n",
    "\n",
    "xts_Jan21PM25_data_mean = xts_Jan21PM25_Stationary_DF_data.mean()\n",
    "xts_Jan21PM25_data_mean = xts_Jan21PM25_data_mean.to_numpy()\n",
    "xts_Jan21PM25_data_mean = xts_Jan21PM25_data_mean[0]\n",
    "xts_Jan21PM25_data_mean\n",
    "\n",
    "#####################################################################################\n",
    "X_train.to_csv('Data_Processing_and_ARIMA/ARIMA_TS_TrainTestValid/X_trainPM25.csv')  \n",
    "\n",
    "y_train.to_csv('Data_Processing_and_ARIMA/ARIMA_TS_TrainTestValid/y_trainPM25.csv')  "
   ]
  },
  {
   "cell_type": "markdown",
   "id": "dc98c596-9437-457a-9aef-c1f6238e8b21",
   "metadata": {},
   "source": [
    "## Validation"
   ]
  },
  {
   "cell_type": "code",
   "execution_count": 5,
   "id": "42cedffe-3c00-4c9c-91ca-2292200a1ace",
   "metadata": {
    "tags": []
   },
   "outputs": [],
   "source": [
    "ValidationJan21PM25_DF = pd.read_csv('Data_Processing_and_ARIMA/TestTrainValid/ValidationJan21PM25.csv')\n",
    "#ValidationJan21PM25_DF.head(10)\n",
    "\n",
    "ValidationJan21PM25_DF_data = ValidationJan21PM25_DF.iloc[4:, [4]]\n",
    "#ValidationJan21PM25_DF_data.head()\n",
    "\n",
    "ValidationJan21PM25_DF_data = ValidationJan21PM25_DF_data.mask(ValidationJan21PM25_DF_data == \"None\", xts_Jan21PM25_data_mean)\n",
    "#ValidationJan21PM25_DF_data.head()\n",
    "\n",
    "ValidationJan21PM25_DF_data = ValidationJan21PM25_DF_data.apply(pd.to_numeric) # convert all columns of DataFrame\n",
    "\n",
    "#ValidationJan21PM25_DF_data.head()\n",
    "\n",
    "ValidationJan21PM25_DF_data_np = ValidationJan21PM25_DF_data.to_numpy()\n",
    "ValidationJan21PM25_DF_data_reshape = np.reshape(ValidationJan21PM25_DF_data_np, (len(ValidationJan21PM25_DF_data_np), -1))\n",
    "\n",
    "ValidationJan21PM25_DF_data_scaled = ValidationJan21PM25_DF_data_reshape.flatten()\n",
    "ValidationJan21PM25_DF_data_scaled = pd.DataFrame(ValidationJan21PM25_DF_data_scaled)\n",
    "\n",
    "X_test, y_test = pd.DataFrame(), pd.DataFrame()\n",
    "for i in range(5, len(ValidationJan21PM25_DF_data_np)):\n",
    "    a = ValidationJan21PM25_DF_data_scaled[i-5:i].transpose()\n",
    "    a = a.rename(columns={i-5:0,i-4:1,i-3:2,i-2:3,i-1:4}, index={0:i})\n",
    "    X_test = pd.concat([X_test, a])\n",
    "    y_test = pd.concat([y_test, ValidationJan21PM25_DF_data_scaled[i:i+1]]) \n",
    "    \n",
    "x_test = X_test.to_numpy()\n",
    "#X_test.shape\n",
    "TestX = np.reshape(x_test, (x_test.shape[0], x_test.shape[1], 1))  \n",
    "#TestX\n",
    "\n",
    "#####################################################################################\n"
   ]
  },
  {
   "cell_type": "code",
   "execution_count": 6,
   "id": "87d3191e-e4d7-481c-8dff-ba2e3795e673",
   "metadata": {
    "tags": []
   },
   "outputs": [],
   "source": [
    "X_test.to_csv('Data_Processing_and_ARIMA/ARIMA_TS_TrainTestValid/X_validPM25.csv')  \n",
    "y_test.to_csv('Data_Processing_and_ARIMA/ARIMA_TS_TrainTestValid/y_validPM25.csv')  "
   ]
  },
  {
   "cell_type": "markdown",
   "id": "efc5c403-31fa-461d-9609-13402a908316",
   "metadata": {
    "tags": []
   },
   "source": [
    "# NO"
   ]
  },
  {
   "cell_type": "markdown",
   "id": "e5344f34-297a-43fc-96be-25c5a4aa2e74",
   "metadata": {},
   "source": [
    "## Train"
   ]
  },
  {
   "cell_type": "code",
   "execution_count": 7,
   "id": "1b67d0c8-f3a4-4f09-85a8-bade71b68b10",
   "metadata": {
    "tags": []
   },
   "outputs": [],
   "source": [
    "xts_Jan21NO_Stationary_DF = pd.read_csv('Data_Processing_and_ARIMA/Train/xts_Jan21NO_Stationary_DF.csv')\n",
    "#xts_Jan21NO_Stationary_DF.head(10)\n",
    "\n",
    "xts_Jan21NO_Stationary_DF_data = xts_Jan21NO_Stationary_DF.iloc[4:, [4]]\n",
    "#xts_Jan21NO_Stationary_DF_data.head()\n",
    "\n",
    "xts_Jan21NO_Stationary_DF_data = xts_Jan21NO_Stationary_DF_data.apply(pd.to_numeric) # convert all columns of DataFrame\n",
    "\n",
    "xts_Jan21NO_Stationary_DF_data_np = xts_Jan21NO_Stationary_DF_data.to_numpy()\n",
    "xts_Jan21NO_Stationary_DF_data_reshape = np.reshape(xts_Jan21NO_Stationary_DF_data_np, (len(xts_Jan21NO_Stationary_DF_data_np), -1))\n",
    "\n",
    "xts_Jan21NO_Stationary_DF_data_reshape = xts_Jan21NO_Stationary_DF_data_reshape.flatten()\n",
    "xts_Jan21NO_Stationary_DF_data_reshape = pd.DataFrame(xts_Jan21NO_Stationary_DF_data_reshape)\n",
    "\n",
    "X_train, y_train = pd.DataFrame(), pd.DataFrame()\n",
    "for i in range(5, len(xts_Jan21NO_Stationary_DF_data_np)):\n",
    "    a = xts_Jan21NO_Stationary_DF_data_reshape[i-5:i].transpose()\n",
    "    a = a.rename(columns={i-5:0,i-4:1,i-3:2,i-2:3,i-1:4}, index={0:i})\n",
    "    X_train = pd.concat([X_train, a])\n",
    "    y_train = pd.concat([y_train,xts_Jan21NO_Stationary_DF_data_reshape[i:i+1]])  \n",
    "\n",
    "x_train = X_train.to_numpy()\n",
    "#X_train.shape\n",
    "TrainX = np.reshape(x_train, (x_train.shape[0], x_train.shape[1], 1))  \n",
    "#TrainX\n",
    "\n",
    "\n",
    "#####################################################################################\n",
    "\n",
    "xts_Jan21NO_data_mean = xts_Jan21NO_Stationary_DF_data.mean()\n",
    "xts_Jan21NO_data_mean = xts_Jan21NO_data_mean.to_numpy()\n",
    "xts_Jan21NO_data_mean = xts_Jan21NO_data_mean[0]\n",
    "xts_Jan21NO_data_mean\n",
    "\n",
    "#####################################################################################\n",
    "X_train.to_csv('Data_Processing_and_ARIMA/ARIMA_TS_TrainTestValid/X_trainNO.csv')  \n",
    "\n",
    "y_train.to_csv('Data_Processing_and_ARIMA/ARIMA_TS_TrainTestValid/y_trainNO.csv')  "
   ]
  },
  {
   "cell_type": "markdown",
   "id": "d234790b-0374-43e0-8c9b-c5244c23468d",
   "metadata": {},
   "source": [
    "## Validation"
   ]
  },
  {
   "cell_type": "code",
   "execution_count": 8,
   "id": "07cda44c-f02d-4d86-959e-b302aeda273c",
   "metadata": {
    "tags": []
   },
   "outputs": [],
   "source": [
    "ValidationJan21NO_DF = pd.read_csv('Data_Processing_and_ARIMA/TestTrainValid/ValidationJan21NO.csv')\n",
    "#ValidationJan21NO_DF.head(10)\n",
    "\n",
    "ValidationJan21NO_DF_data = ValidationJan21NO_DF.iloc[4:, [4]]\n",
    "#ValidationJan21NO_DF_data.head()\n",
    "\n",
    "ValidationJan21NO_DF_data = ValidationJan21NO_DF_data.mask(ValidationJan21NO_DF_data == \"None\", xts_Jan21NO_data_mean)\n",
    "#ValidationJan21NO_DF_data.head()\n",
    "\n",
    "ValidationJan21NO_DF_data = ValidationJan21NO_DF_data.apply(pd.to_numeric) # convert all columns of DataFrame\n",
    "\n",
    "#ValidationJan21NO_DF_data.head()\n",
    "\n",
    "ValidationJan21NO_DF_data_np = ValidationJan21NO_DF_data.to_numpy()\n",
    "ValidationJan21NO_DF_data_reshape = np.reshape(ValidationJan21NO_DF_data_np, (len(ValidationJan21NO_DF_data_np), -1))\n",
    "\n",
    "ValidationJan21NO_DF_data_scaled = ValidationJan21NO_DF_data_reshape.flatten()\n",
    "ValidationJan21NO_DF_data_scaled = pd.DataFrame(ValidationJan21NO_DF_data_scaled)\n",
    "\n",
    "X_test, y_test = pd.DataFrame(), pd.DataFrame()\n",
    "for i in range(5, len(ValidationJan21NO_DF_data_np)):\n",
    "    a = ValidationJan21NO_DF_data_scaled[i-5:i].transpose()\n",
    "    a = a.rename(columns={i-5:0,i-4:1,i-3:2,i-2:3,i-1:4}, index={0:i})\n",
    "    X_test = pd.concat([X_test, a])\n",
    "    y_test = pd.concat([y_test, ValidationJan21NO_DF_data_scaled[i:i+1]])  \n",
    "\n",
    "x_test = X_test.to_numpy()\n",
    "#X_test.shape\n",
    "TestX = np.reshape(x_test, (x_test.shape[0], x_test.shape[1], 1))  \n",
    "#TestX\n",
    "\n",
    "#####################################################################################\n",
    "\n",
    "X_test.to_csv('Data_Processing_and_ARIMA/ARIMA_TS_TrainTestValid/X_validNO.csv')  \n",
    "\n",
    "y_test.to_csv('Data_Processing_and_ARIMA/ARIMA_TS_TrainTestValid/y_validNO.csv')  "
   ]
  },
  {
   "cell_type": "markdown",
   "id": "e4af5743-d37e-4701-83f2-cd68c9429c16",
   "metadata": {},
   "source": [
    "# NOx"
   ]
  },
  {
   "cell_type": "markdown",
   "id": "0df559e6-f5dd-4f90-bd2e-ef8c89a67457",
   "metadata": {},
   "source": [
    "## Train"
   ]
  },
  {
   "cell_type": "code",
   "execution_count": 11,
   "id": "04af407c-cd7e-4b2d-afca-6cf957fd8620",
   "metadata": {
    "tags": []
   },
   "outputs": [],
   "source": [
    "xts_Jan21NOx_Stationary_DF = pd.read_csv('Data_Processing_and_ARIMA/Train/xts_Jan21NOx_Stationary_DF.csv')\n",
    "#xts_Jan21NOx_Stationary_DF.head(10)\n",
    "\n",
    "xts_Jan21NOx_Stationary_DF_data = xts_Jan21NOx_Stationary_DF.iloc[4:, [4]]\n",
    "#xts_Jan21NOx_Stationary_DF_data.head()\n",
    "\n",
    "xts_Jan21NOx_Stationary_DF_data = xts_Jan21NOx_Stationary_DF_data.apply(pd.to_numeric) # convert all columns of DataFrame\n",
    "\n",
    "xts_Jan21NOx_Stationary_DF_data_np = xts_Jan21NOx_Stationary_DF_data.to_numpy()\n",
    "xts_Jan21NOx_Stationary_DF_data_reshape = np.reshape(xts_Jan21NOx_Stationary_DF_data_np, (len(xts_Jan21NOx_Stationary_DF_data_np), -1))\n",
    "\n",
    "xts_Jan21NOx_Stationary_DF_data_reshape = xts_Jan21NOx_Stationary_DF_data_reshape.flatten()\n",
    "xts_Jan21NOx_Stationary_DF_data_reshape = pd.DataFrame(xts_Jan21NOx_Stationary_DF_data_reshape)\n",
    "\n",
    "X_train, y_train = pd.DataFrame(), pd.DataFrame()\n",
    "for i in range(5, len(xts_Jan21NOx_Stationary_DF_data_np)):\n",
    "    a = xts_Jan21NOx_Stationary_DF_data_reshape[i-5:i].transpose()\n",
    "    a = a.rename(columns={i-5:0,i-4:1,i-3:2,i-2:3,i-1:4}, index={0:i})\n",
    "    X_train = pd.concat([X_train, a])\n",
    "    y_train = pd.concat([y_train, xts_Jan21NOx_Stationary_DF_data_reshape[i:i+1]])  \n",
    "\n",
    "x_train = X_train.to_numpy()\n",
    "#X_train.shape\n",
    "TrainX = np.reshape(x_train, (x_train.shape[0], x_train.shape[1], 1))  \n",
    "#TrainX\n",
    "\n",
    "\n",
    "#####################################################################################\n",
    "\n",
    "xts_Jan21NOx_data_mean = xts_Jan21NOx_Stationary_DF_data.mean()\n",
    "xts_Jan21NOx_data_mean = xts_Jan21NOx_data_mean.to_numpy()\n",
    "xts_Jan21NOx_data_mean = xts_Jan21NOx_data_mean[0]\n",
    "xts_Jan21NOx_data_mean\n",
    "\n",
    "#####################################################################################\n",
    "X_train.to_csv('Data_Processing_and_ARIMA/ARIMA_TS_TrainTestValid/X_trainNOx.csv')  \n",
    "\n",
    "y_train.to_csv('Data_Processing_and_ARIMA/ARIMA_TS_TrainTestValid/y_trainNOx.csv')  "
   ]
  },
  {
   "cell_type": "markdown",
   "id": "f2db4712-409d-49e6-bd5c-e98eae2c3e3d",
   "metadata": {},
   "source": [
    "## Validation"
   ]
  },
  {
   "cell_type": "code",
   "execution_count": 12,
   "id": "d4c02802-cc97-4442-9643-6e15dfbaa825",
   "metadata": {
    "tags": []
   },
   "outputs": [],
   "source": [
    "ValidationJan21NOx_DF = pd.read_csv('Data_Processing_and_ARIMA/TestTrainValid/ValidationJan21NOx.csv')\n",
    "#ValidationJan21NOx_DF.head(10)\n",
    "\n",
    "ValidationJan21NOx_DF_data = ValidationJan21NOx_DF.iloc[4:, [4]]\n",
    "#ValidationJan21NOx_DF_data.head()\n",
    "\n",
    "ValidationJan21NOx_DF_data = ValidationJan21NOx_DF_data.mask(ValidationJan21NOx_DF_data == \"None\", xts_Jan21NOx_data_mean)\n",
    "#ValidationJan21NOx_DF_data.head()\n",
    "\n",
    "ValidationJan21NOx_DF_data = ValidationJan21NOx_DF_data.apply(pd.to_numeric) # convert all columns of DataFrame\n",
    "\n",
    "#ValidationJan21NOx_DF_data.head()\n",
    "\n",
    "ValidationJan21NOx_DF_data_np = ValidationJan21NOx_DF_data.to_numpy()\n",
    "ValidationJan21NOx_DF_data_reshape = np.reshape(ValidationJan21NOx_DF_data_np, (len(ValidationJan21NOx_DF_data_np), -1))\n",
    "\n",
    "ValidationJan21NOx_DF_data_scaled = ValidationJan21NOx_DF_data_reshape.flatten()\n",
    "ValidationJan21NOx_DF_data_scaled = pd.DataFrame(ValidationJan21NOx_DF_data_scaled)\n",
    "\n",
    "X_test, y_test = pd.DataFrame(), pd.DataFrame()\n",
    "for i in range(5, len(ValidationJan21NOx_DF_data_np)):\n",
    "    a = ValidationJan21NOx_DF_data_scaled[i-5:i].transpose()\n",
    "    a = a.rename(columns={i-5:0,i-4:1,i-3:2,i-2:3,i-1:4}, index={0:i})\n",
    "    X_test = pd.concat([X_test, a])\n",
    "    y_test = pd.concat([y_test, ValidationJan21NOx_DF_data_scaled[i:i+1]])  \n",
    "\n",
    "x_test = X_test.to_numpy()\n",
    "#X_test.shape\n",
    "TestX = np.reshape(x_test, (x_test.shape[0], x_test.shape[1], 1))  \n",
    "#TestX\n",
    "\n",
    "#####################################################################################\n",
    "\n",
    "X_test.to_csv('Data_Processing_and_ARIMA/ARIMA_TS_TrainTestValid/X_validNOx.csv')  \n",
    "\n",
    "y_test.to_csv('Data_Processing_and_ARIMA/ARIMA_TS_TrainTestValid/y_validNOx.csv')  "
   ]
  },
  {
   "cell_type": "markdown",
   "id": "49a7c575-0639-4e7e-a144-fd70a4ab3da5",
   "metadata": {},
   "source": [
    "# SO2"
   ]
  },
  {
   "cell_type": "markdown",
   "id": "5dda2c2e-97da-4a07-90f7-0e70642adce1",
   "metadata": {},
   "source": [
    "## Train"
   ]
  },
  {
   "cell_type": "code",
   "execution_count": 13,
   "id": "8624567b-432c-40f0-a81f-f3f2172f1b7d",
   "metadata": {
    "tags": []
   },
   "outputs": [],
   "source": [
    "xts_Jan21SO2_Stationary_DF = pd.read_csv('Data_Processing_and_ARIMA/Train/xts_Jan21SO2_Stationary_DF.csv')\n",
    "#xts_Jan21SO2_Stationary_DF.head(10)\n",
    "\n",
    "xts_Jan21SO2_Stationary_DF_data = xts_Jan21SO2_Stationary_DF.iloc[4:, [4]]\n",
    "#xts_Jan21SO2_Stationary_DF_data.head()\n",
    "\n",
    "xts_Jan21SO2_Stationary_DF_data = xts_Jan21SO2_Stationary_DF_data.apply(pd.to_numeric) # convert all columns of DataFrame\n",
    "\n",
    "xts_Jan21SO2_Stationary_DF_data_np = xts_Jan21SO2_Stationary_DF_data.to_numpy()\n",
    "xts_Jan21SO2_Stationary_DF_data_reshape = np.reshape(xts_Jan21SO2_Stationary_DF_data_np, (len(xts_Jan21SO2_Stationary_DF_data_np), -1))\n",
    "\n",
    "xts_Jan21SO2_Stationary_DF_data_reshape = xts_Jan21SO2_Stationary_DF_data_reshape.flatten()\n",
    "xts_Jan21SO2_Stationary_DF_data_reshape = pd.DataFrame(xts_Jan21SO2_Stationary_DF_data_reshape)\n",
    "\n",
    "X_train, y_train = pd.DataFrame(), pd.DataFrame()\n",
    "for i in range(5, len(xts_Jan21SO2_Stationary_DF_data_np)):\n",
    "    a = xts_Jan21SO2_Stationary_DF_data_reshape[i-5:i].transpose()\n",
    "    a = a.rename(columns={i-5:0,i-4:1,i-3:2,i-2:3,i-1:4}, index={0:i})\n",
    "    X_train = pd.concat([X_train, a])\n",
    "    y_train = pd.concat([y_train, xts_Jan21SO2_Stationary_DF_data_reshape[i:i+1]])  \n",
    "\n",
    "x_train = X_train.to_numpy()\n",
    "#X_train.shape\n",
    "TrainX = np.reshape(x_train, (x_train.shape[0], x_train.shape[1], 1))  \n",
    "#TrainX\n",
    "\n",
    "\n",
    "#####################################################################################\n",
    "\n",
    "xts_Jan21SO2_data_mean = xts_Jan21SO2_Stationary_DF_data.mean()\n",
    "xts_Jan21SO2_data_mean = xts_Jan21SO2_data_mean.to_numpy()\n",
    "xts_Jan21SO2_data_mean = xts_Jan21SO2_data_mean[0]\n",
    "xts_Jan21SO2_data_mean\n",
    "\n",
    "#####################################################################################\n",
    "X_train.to_csv('Data_Processing_and_ARIMA/ARIMA_TS_TrainTestValid/X_trainSO2.csv')  \n",
    "\n",
    "y_train.to_csv('Data_Processing_and_ARIMA/ARIMA_TS_TrainTestValid/y_trainSO2.csv')  "
   ]
  },
  {
   "cell_type": "markdown",
   "id": "b60f9316-7fee-40ef-9479-a0fbd275b7c7",
   "metadata": {},
   "source": [
    "## Validation"
   ]
  },
  {
   "cell_type": "code",
   "execution_count": 14,
   "id": "42a1fe5b-9e54-45e3-9eeb-c6ab6ef04002",
   "metadata": {
    "tags": []
   },
   "outputs": [],
   "source": [
    "ValidationJan21SO2_DF = pd.read_csv('Data_Processing_and_ARIMA/TestTrainValid/ValidationJan21SO2.csv')\n",
    "#ValidationJan21SO2_DF.head(10)\n",
    "\n",
    "ValidationJan21SO2_DF_data = ValidationJan21SO2_DF.iloc[4:, [4]]\n",
    "#ValidationJan21SO2_DF_data.head()\n",
    "\n",
    "ValidationJan21SO2_DF_data = ValidationJan21SO2_DF_data.mask(ValidationJan21SO2_DF_data == \"None\", xts_Jan21SO2_data_mean)\n",
    "#ValidationJan21SO2_DF_data.head()\n",
    "\n",
    "ValidationJan21SO2_DF_data = ValidationJan21SO2_DF_data.apply(pd.to_numeric) # convert all columns of DataFrame\n",
    "\n",
    "#ValidationJan21SO2_DF_data.head()\n",
    "\n",
    "ValidationJan21SO2_DF_data_np = ValidationJan21SO2_DF_data.to_numpy()\n",
    "ValidationJan21SO2_DF_data_reshape = np.reshape(ValidationJan21SO2_DF_data_np, (len(ValidationJan21SO2_DF_data_np), -1))\n",
    "\n",
    "\n",
    "ValidationJan21SO2_DF_data_scaled = ValidationJan21SO2_DF_data_reshape.flatten()\n",
    "ValidationJan21SO2_DF_data_scaled = pd.DataFrame(ValidationJan21SO2_DF_data_scaled)\n",
    "\n",
    "X_test, y_test = pd.DataFrame(), pd.DataFrame()\n",
    "for i in range(5, len(ValidationJan21SO2_DF_data_np)):\n",
    "    a = ValidationJan21SO2_DF_data_scaled[i-5:i].transpose()\n",
    "    a = a.rename(columns={i-5:0,i-4:1,i-3:2,i-2:3,i-1:4}, index={0:i})\n",
    "    X_test = pd.concat([X_test, a])\n",
    "    y_test = pd.concat([y_test, ValidationJan21SO2_DF_data_scaled[i:i+1]])  \n",
    "\n",
    "x_test = X_test.to_numpy()\n",
    "#X_test.shape\n",
    "TestX = np.reshape(x_test, (x_test.shape[0], x_test.shape[1], 1))  \n",
    "#TestX\n",
    "\n",
    "#####################################################################################\n",
    "\n",
    "X_test.to_csv('Data_Processing_and_ARIMA/ARIMA_TS_TrainTestValid/X_validSO2.csv')  \n",
    "\n",
    "y_test.to_csv('Data_Processing_and_ARIMA/ARIMA_TS_TrainTestValid/y_validSO2.csv')  "
   ]
  },
  {
   "cell_type": "code",
   "execution_count": null,
   "id": "a87ab3f8-72c8-45cf-8546-f035eacb5b1c",
   "metadata": {},
   "outputs": [],
   "source": []
  },
  {
   "cell_type": "code",
   "execution_count": null,
   "id": "9a454ec9-a7ae-4269-b75b-41741f5ddb67",
   "metadata": {},
   "outputs": [],
   "source": []
  }
 ],
 "metadata": {
  "kernelspec": {
   "display_name": "Python 3 (ipykernel)",
   "language": "python",
   "name": "python3"
  },
  "language_info": {
   "codemirror_mode": {
    "name": "ipython",
    "version": 3
   },
   "file_extension": ".py",
   "mimetype": "text/x-python",
   "name": "python",
   "nbconvert_exporter": "python",
   "pygments_lexer": "ipython3",
   "version": "3.12.1"
  }
 },
 "nbformat": 4,
 "nbformat_minor": 5
}
