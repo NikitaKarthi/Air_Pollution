{
 "cells": [
  {
   "cell_type": "code",
   "execution_count": 1,
   "id": "1bb32850",
   "metadata": {},
   "outputs": [
    {
     "name": "stderr",
     "output_type": "stream",
     "text": [
      "Registered S3 method overwritten by 'quantmod':\n",
      "  method            from\n",
      "  as.zoo.data.frame zoo \n",
      "\n",
      "Loading required package: zoo\n",
      "\n",
      "\n",
      "Attaching package: ‘zoo’\n",
      "\n",
      "\n",
      "The following objects are masked from ‘package:base’:\n",
      "\n",
      "    as.Date, as.Date.numeric\n",
      "\n",
      "\n"
     ]
    },
    {
     "name": "stdout",
     "output_type": "stream",
     "text": [
      "[1] \"ARIMA_library_read_csv\"\n",
      "[1] \"Jan21AllOrg, TestingJan21All, ValidationJan21All\"\n",
      "[1] \"Jan21AllOrg replace All replace by PM25, NO, NO2, NOx, SO2\"\n"
     ]
    },
    {
     "name": "stderr",
     "output_type": "stream",
     "text": [
      "Warning message in lapply(Jan21Alldata[\"PM25\"], as.numeric):\n",
      "“NAs introduced by coercion”\n",
      "Warning message in lapply(Jan21Alldata[\"NO\"], as.numeric):\n",
      "“NAs introduced by coercion”\n",
      "Warning message in lapply(Jan21Alldata[\"NO2\"], as.numeric):\n",
      "“NAs introduced by coercion”\n",
      "Warning message in lapply(Jan21Alldata[\"NOx\"], as.numeric):\n",
      "“NAs introduced by coercion”\n",
      "Warning message in lapply(Jan21Alldata[\"SO2\"], as.numeric):\n",
      "“NAs introduced by coercion”\n",
      "Warning message in lapply(Jan21PM25data[\"PM25\"], as.numeric):\n",
      "“NAs introduced by coercion”\n",
      "Warning message in lapply(Jan21NOdata[\"NO\"], as.numeric):\n",
      "“NAs introduced by coercion”\n",
      "Warning message in lapply(Jan21NO2data[\"NO2\"], as.numeric):\n",
      "“NAs introduced by coercion”\n",
      "Warning message in lapply(Jan21NOxdata[\"NOx\"], as.numeric):\n",
      "“NAs introduced by coercion”\n",
      "Warning message in lapply(Jan21SO2data[\"SO2\"], as.numeric):\n",
      "“NAs introduced by coercion”\n"
     ]
    },
    {
     "name": "stdout",
     "output_type": "stream",
     "text": [
      "[1] \"ARIMA_to_xts\"\n",
      "[1] \"Jan21PM25_value <- as.numeric(xts_Jan21PM25[,4])\"\n",
      "[1] \"xts_Jan21All replace All\"\n",
      "[1] \"ARIMA_missing_values\"\n",
      "[1] \"xts_Jan21All_Fill replace All\"\n"
     ]
    }
   ],
   "source": [
    "source('ARIMA_missing_values.r')"
   ]
  },
  {
   "cell_type": "code",
   "execution_count": 2,
   "id": "f9ea805b",
   "metadata": {},
   "outputs": [],
   "source": [
    "#xts_Jan21PM25[,4]\n",
    "xts_Jan21PM25_fill_Value = as.numeric(xts_Jan21PM25_Fill[,4])\n",
    "#xts_Jan21PM25Value\n",
    "\n",
    "xts_Jan21PM25_smoothFit = ets(xts_Jan21PM25_fill_Value)\n",
    "xts_Jan21PM25_smooth <- fitted(xts_Jan21PM25_smoothFit)\n",
    "#xts_Jan21PM25_smooth\n",
    "\n",
    "xts_Jan21PM25_Smooth <- xts_Jan21PM25_Fill\n",
    "#xts_Jan21PM25_Smooth\n",
    "\n",
    "xts_Jan21PM25_Smooth[,4] <- xts_Jan21PM25_smooth\n",
    "#xts_Jan21PM25_Smooth[0:10]"
   ]
  },
  {
   "cell_type": "code",
   "execution_count": 3,
   "id": "462309c2",
   "metadata": {},
   "outputs": [],
   "source": [
    "#xts_Jan21NO[,4]\n",
    "xts_Jan21NO_fill_Value = as.numeric(xts_Jan21NO_Fill[,4])\n",
    "#xts_Jan21NOValue\n",
    "\n",
    "xts_Jan21NO_smoothFit = ets(xts_Jan21NO_fill_Value)\n",
    "xts_Jan21NO_smooth <- fitted(xts_Jan21NO_smoothFit)\n",
    "#xts_Jan21NO_smooth\n",
    "\n",
    "xts_Jan21NO_Smooth <- xts_Jan21NO_Fill\n",
    "#xts_Jan21NO_Smooth\n",
    "\n",
    "xts_Jan21NO_Smooth[,4] <- xts_Jan21NO_smooth\n",
    "#xts_Jan21NO_Smooth[0:10]"
   ]
  },
  {
   "cell_type": "code",
   "execution_count": 4,
   "id": "cd89bea5",
   "metadata": {},
   "outputs": [],
   "source": [
    "#xts_Jan21NO2[,4]\n",
    "xts_Jan21NO2_fill_Value = as.numeric(xts_Jan21NO2_Fill[,4])\n",
    "#xts_Jan21NO2Value\n",
    "\n",
    "xts_Jan21NO2_smoothFit = ets(xts_Jan21NO2_fill_Value)\n",
    "xts_Jan21NO2_smooth <- fitted(xts_Jan21NO2_smoothFit)\n",
    "#xts_Jan21NO2_smooth\n",
    "\n",
    "xts_Jan21NO2_Smooth <- xts_Jan21NO2_Fill\n",
    "#xts_Jan21NO2_Smooth\n",
    "\n",
    "xts_Jan21NO2_Smooth[,4] <- xts_Jan21NO2_smooth\n",
    "#xts_Jan21NO2_Smooth[0:10]"
   ]
  },
  {
   "cell_type": "code",
   "execution_count": 5,
   "id": "33df92a2",
   "metadata": {},
   "outputs": [],
   "source": [
    "#xts_Jan21NOx[,4]\n",
    "xts_Jan21NOx_fill_Value = as.numeric(xts_Jan21NOx_Fill[,4])\n",
    "#xts_Jan21NOxValue\n",
    "\n",
    "xts_Jan21NOx_smoothFit = ets(xts_Jan21NOx_fill_Value)\n",
    "xts_Jan21NOx_smooth <- fitted(xts_Jan21NOx_smoothFit)\n",
    "#xts_Jan21NOx_smooth\n",
    "\n",
    "xts_Jan21NOx_Smooth <- xts_Jan21NOx_Fill\n",
    "#xts_Jan21NOx_Smooth\n",
    "\n",
    "xts_Jan21NOx_Smooth[,4] <- xts_Jan21NOx_smooth\n",
    "#xts_Jan21NOx_Smooth[0:10]"
   ]
  },
  {
   "cell_type": "code",
   "execution_count": 6,
   "id": "22670cc1",
   "metadata": {},
   "outputs": [],
   "source": [
    "#xts_Jan21SO2[,4]\n",
    "xts_Jan21SO2_fill_Value = as.numeric(xts_Jan21SO2_Fill[,4])\n",
    "#xts_Jan21SO2Value\n",
    "\n",
    "xts_Jan21SO2_smoothFit = ets(xts_Jan21SO2_fill_Value)\n",
    "xts_Jan21SO2_smooth <- fitted(xts_Jan21SO2_smoothFit)\n",
    "#xts_Jan21SO2_smooth\n",
    "\n",
    "xts_Jan21SO2_Smooth <- xts_Jan21SO2_Fill\n",
    "#xts_Jan21SO2_Smooth\n",
    "\n",
    "xts_Jan21SO2_Smooth[,4] <- xts_Jan21SO2_smooth\n",
    "#xts_Jan21SO2_Smooth[0:10]"
   ]
  },
  {
   "cell_type": "code",
   "execution_count": 7,
   "id": "f826f778",
   "metadata": {},
   "outputs": [],
   "source": [
    "xts_Jan21All_Smooth <- xts_Jan21All_Fill\n",
    "#xts_Jan21SO2_Fill\n",
    "\n",
    "xts_Jan21All_Smooth[,4] <- xts_Jan21PM25_smooth\n",
    "xts_Jan21All_Smooth[,5] <- xts_Jan21NO_smooth\n",
    "xts_Jan21All_Smooth[,6] <- xts_Jan21NO2_smooth\n",
    "xts_Jan21All_Smooth[,7] <- xts_Jan21NOx_smooth\n",
    "xts_Jan21All_Smooth[,8] <- xts_Jan21SO2_smooth\n",
    "#xts_Jan21All_Smooth[0:10,]\n",
    "#xts_Jan21All_Fill"
   ]
  },
  {
   "cell_type": "code",
   "execution_count": 8,
   "id": "ff2656e6",
   "metadata": {},
   "outputs": [
    {
     "name": "stdout",
     "output_type": "stream",
     "text": [
      "[1] \"ARIMA_smoothen\"\n",
      "[1] \"xts_Jan21All_Smooth replace All\"\n"
     ]
    }
   ],
   "source": [
    "print('ARIMA_smoothen')\n",
    "print('xts_Jan21All_Smooth replace All')"
   ]
  },
  {
   "cell_type": "code",
   "execution_count": null,
   "id": "a98d6f3b",
   "metadata": {},
   "outputs": [],
   "source": []
  }
 ],
 "metadata": {
  "kernelspec": {
   "display_name": "R",
   "language": "R",
   "name": "ir"
  },
  "language_info": {
   "codemirror_mode": "r",
   "file_extension": ".r",
   "mimetype": "text/x-r-source",
   "name": "R",
   "pygments_lexer": "r",
   "version": "4.3.1"
  }
 },
 "nbformat": 4,
 "nbformat_minor": 5
}
