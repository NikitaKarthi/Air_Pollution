{
 "cells": [
  {
   "cell_type": "code",
   "execution_count": 1,
   "id": "4b58f5f3",
   "metadata": {
    "scrolled": true
   },
   "outputs": [
    {
     "name": "stderr",
     "output_type": "stream",
     "text": [
      "Registered S3 method overwritten by 'quantmod':\n",
      "  method            from\n",
      "  as.zoo.data.frame zoo \n",
      "\n",
      "Loading required package: zoo\n",
      "\n",
      "\n",
      "Attaching package: ‘zoo’\n",
      "\n",
      "\n",
      "The following objects are masked from ‘package:base’:\n",
      "\n",
      "    as.Date, as.Date.numeric\n",
      "\n",
      "\n"
     ]
    },
    {
     "name": "stdout",
     "output_type": "stream",
     "text": [
      "[1] \"ARIMA_library_read_csv\"\n",
      "[1] \"Jan21AllOrg, TestingJan21All, ValidationJan21All\"\n",
      "[1] \"Jan21AllOrg replace All replace by PM25, NO, NO2, NOx, SO2\"\n"
     ]
    },
    {
     "name": "stderr",
     "output_type": "stream",
     "text": [
      "Warning message in lapply(Jan21Alldata[\"PM25\"], as.numeric):\n",
      "“NAs introduced by coercion”\n",
      "Warning message in lapply(Jan21Alldata[\"NO\"], as.numeric):\n",
      "“NAs introduced by coercion”\n",
      "Warning message in lapply(Jan21Alldata[\"NO2\"], as.numeric):\n",
      "“NAs introduced by coercion”\n",
      "Warning message in lapply(Jan21Alldata[\"NOx\"], as.numeric):\n",
      "“NAs introduced by coercion”\n",
      "Warning message in lapply(Jan21Alldata[\"SO2\"], as.numeric):\n",
      "“NAs introduced by coercion”\n",
      "Warning message in lapply(Jan21PM25data[\"PM25\"], as.numeric):\n",
      "“NAs introduced by coercion”\n",
      "Warning message in lapply(Jan21NOdata[\"NO\"], as.numeric):\n",
      "“NAs introduced by coercion”\n",
      "Warning message in lapply(Jan21NO2data[\"NO2\"], as.numeric):\n",
      "“NAs introduced by coercion”\n",
      "Warning message in lapply(Jan21NOxdata[\"NOx\"], as.numeric):\n",
      "“NAs introduced by coercion”\n",
      "Warning message in lapply(Jan21SO2data[\"SO2\"], as.numeric):\n",
      "“NAs introduced by coercion”\n"
     ]
    },
    {
     "name": "stdout",
     "output_type": "stream",
     "text": [
      "[1] \"ARIMA_to_xts\"\n",
      "[1] \"Jan21PM25_value <- as.numeric(xts_Jan21PM25[,4])\"\n",
      "[1] \"xts_Jan21All replace All\"\n",
      "[1] \"ARIMA_missing_values\"\n",
      "[1] \"xts_Jan21All_Fill replace All\"\n",
      "[1] \"ARIMA_smoothen\"\n",
      "[1] \"xts_Jan21All_Smooth replace All\"\n",
      "[1] \"ARIMA_xts_to_ts\"\n",
      "[1] \"ts_Jan21All_Smooth replace All\"\n"
     ]
    }
   ],
   "source": [
    "source('ARIMA_xts_to_ts.r')"
   ]
  },
  {
   "cell_type": "code",
   "execution_count": 3,
   "id": "42575705",
   "metadata": {},
   "outputs": [],
   "source": [
    "#class(ts_Jan21All_Smooth)\n",
    "#ts_Jan21All_Smooth_value = as.numeric(ts_Jan21All_Smooth[,4:8])\n",
    "ts_Jan21PM25_Smooth_value = as.numeric(ts_Jan21PM25_Smooth[,4])\n",
    "ts_Jan21NO_Smooth_value = as.numeric(ts_Jan21NO_Smooth[,4])\n",
    "ts_Jan21NO2_Smooth_value = as.numeric(ts_Jan21NO2_Smooth[,4])\n",
    "ts_Jan21NOx_Smooth_value = as.numeric(ts_Jan21NOx_Smooth[,4])\n",
    "ts_Jan21SO2_Smooth_value = as.numeric(ts_Jan21SO2_Smooth[,4])"
   ]
  },
  {
   "cell_type": "code",
   "execution_count": 6,
   "id": "84944f70",
   "metadata": {},
   "outputs": [],
   "source": [
    "#Acf(ts_Jan21PM25_Smooth_value)\n",
    "#Pacf(ts_Jan21PM25_Smooth_value)"
   ]
  },
  {
   "cell_type": "code",
   "execution_count": 4,
   "id": "2ddf3d80",
   "metadata": {},
   "outputs": [],
   "source": [
    "#Acf(ts_Jan21NO_Smooth_value)\n",
    "#Pacf(ts_Jan21NO_Smooth_value)"
   ]
  },
  {
   "cell_type": "code",
   "execution_count": 5,
   "id": "cffc5e5f",
   "metadata": {},
   "outputs": [],
   "source": [
    "#Acf(ts_Jan21NO2_Smooth_value)\n",
    "#Pacf(ts_Jan21NO2_Smooth_value)"
   ]
  },
  {
   "cell_type": "code",
   "execution_count": 6,
   "id": "aca1764f",
   "metadata": {},
   "outputs": [],
   "source": [
    "#Acf(ts_Jan21NOx_Smooth_value)\n",
    "#Pacf(ts_Jan21NOx_Smooth_value)"
   ]
  },
  {
   "cell_type": "code",
   "execution_count": 7,
   "id": "9833397b",
   "metadata": {},
   "outputs": [],
   "source": [
    "#Acf(ts_Jan21SO2_Smooth_value)\n",
    "#Pacf(ts_Jan21SO2_Smooth_value)"
   ]
  },
  {
   "cell_type": "code",
   "execution_count": 8,
   "id": "ad3141e0",
   "metadata": {},
   "outputs": [],
   "source": [
    "#plot(Jan21DataPM25New[0:500], type='l', main='Jan21DataPM25New')\n",
    "#plot(Jan21_PM25[0:500], type='l', main='Jan21_PM25')\n",
    "#plot(Jan21DataPM25clean[0:500], type='l', main='Jan21DataPM25clean')"
   ]
  },
  {
   "cell_type": "code",
   "execution_count": 9,
   "id": "d799b932",
   "metadata": {},
   "outputs": [],
   "source": [
    "#hist(ts_Jan21All_Smooth_value)\n",
    "#hist(diff(ts_Jan21All_Smooth_value))"
   ]
  },
  {
   "cell_type": "code",
   "execution_count": 10,
   "id": "cf5c311b",
   "metadata": {},
   "outputs": [],
   "source": [
    "#ts_Jan21All_Smooth_value"
   ]
  },
  {
   "cell_type": "code",
   "execution_count": 11,
   "id": "fd7726e7",
   "metadata": {},
   "outputs": [],
   "source": [
    "#plot(ts_Jan21All_Smooth[0:100,4], type='l')"
   ]
  },
  {
   "cell_type": "code",
   "execution_count": 12,
   "id": "7abcb7c5",
   "metadata": {},
   "outputs": [
    {
     "name": "stdout",
     "output_type": "stream",
     "text": [
      "[1] \"ARIMA_Value_acf_plot\"\n",
      "[1] \"ts_Jan21PM25_Smooth_value replace PM25\"\n"
     ]
    }
   ],
   "source": [
    "print('ARIMA_Value_acf_plot')\n",
    "print('ts_Jan21PM25_Smooth_value replace PM25')"
   ]
  }
 ],
 "metadata": {
  "kernelspec": {
   "display_name": "R",
   "language": "R",
   "name": "ir"
  },
  "language_info": {
   "codemirror_mode": "r",
   "file_extension": ".r",
   "mimetype": "text/x-r-source",
   "name": "R",
   "pygments_lexer": "r",
   "version": "4.3.1"
  }
 },
 "nbformat": 4,
 "nbformat_minor": 5
}
