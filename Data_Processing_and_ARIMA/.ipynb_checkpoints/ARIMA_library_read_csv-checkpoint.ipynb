{
 "cells": [
  {
   "cell_type": "code",
   "execution_count": 8,
   "id": "270e7918",
   "metadata": {},
   "outputs": [
    {
     "name": "stderr",
     "output_type": "stream",
     "text": [
      "Registered S3 method overwritten by 'quantmod':\n",
      "  method            from\n",
      "  as.zoo.data.frame zoo \n",
      "\n",
      "Loading required package: zoo\n",
      "\n",
      "\n",
      "Attaching package: ‘zoo’\n",
      "\n",
      "\n",
      "The following objects are masked from ‘package:base’:\n",
      "\n",
      "    as.Date, as.Date.numeric\n",
      "\n",
      "\n"
     ]
    }
   ],
   "source": [
    "library(forecast)\n",
    "library(xts)\n",
    "library(rsample)"
   ]
  },
  {
   "cell_type": "code",
   "execution_count": 9,
   "id": "68318104",
   "metadata": {},
   "outputs": [],
   "source": [
    "\n",
    "Jan21AllOriginal = read.csv('Data/Jan21all.csv')\n",
    "Jan21PM25Original = read.csv('Data/Jan21PM25.csv')\n",
    "Jan21NOOriginal = read.csv('Data/Jan21NO.csv')\n",
    "Jan21NO2Original = read.csv('Data/Jan21NO2.csv')\n",
    "Jan21NOxOriginal = read.csv('Data/Jan21NOx.csv')\n",
    "Jan21SO2Original = read.csv('Data/Jan21SO2.csv')\n",
    "#dim(Jan21AllOriginal)\n",
    "#Jan21AllOriginal[0:10,]"
   ]
  },
  {
   "cell_type": "code",
   "execution_count": 10,
   "id": "7fdda2e6",
   "metadata": {},
   "outputs": [
    {
     "data": {
      "text/html": [
       "<style>\n",
       ".list-inline {list-style: none; margin:0; padding: 0}\n",
       ".list-inline>li {display: inline-block}\n",
       ".list-inline>li:not(:last-child)::after {content: \"\\00b7\"; padding: 0 .5ex}\n",
       "</style>\n",
       "<ol class=list-inline><li>3173</li><li>8</li></ol>\n"
      ],
      "text/latex": [
       "\\begin{enumerate*}\n",
       "\\item 3173\n",
       "\\item 8\n",
       "\\end{enumerate*}\n"
      ],
      "text/markdown": [
       "1. 3173\n",
       "2. 8\n",
       "\n",
       "\n"
      ],
      "text/plain": [
       "[1] 3173    8"
      ]
     },
     "metadata": {},
     "output_type": "display_data"
    },
    {
     "data": {
      "text/html": [
       "3173"
      ],
      "text/latex": [
       "3173"
      ],
      "text/markdown": [
       "3173"
      ],
      "text/plain": [
       "[1] 3173"
      ]
     },
     "metadata": {},
     "output_type": "display_data"
    }
   ],
   "source": [
    "\n",
    "#Jan21PM25Original\n",
    "dim(Jan21AllOriginal)\n",
    "nrow(Jan21AllOriginal)"
   ]
  },
  {
   "cell_type": "code",
   "execution_count": 11,
   "id": "f4b6ee99",
   "metadata": {},
   "outputs": [],
   "source": [
    "\n",
    "Jan21PM25_tr_test <- initial_time_split(Jan21PM25Original, prop = 3/4)\n",
    "TrainingJan21PM25 <- training(Jan21PM25_tr_test)\n",
    "TestingJan21PM25 <- testing(Jan21PM25_tr_test)\n",
    "Jan21PM25_tr_val <- initial_time_split(TrainingJan21PM25, prop = 2/3)\n",
    "Jan21PM25Org <- training(Jan21PM25_tr_val)\n",
    "ValidationJan21PM25 <- testing(Jan21PM25_tr_val)"
   ]
  },
  {
   "cell_type": "code",
   "execution_count": 12,
   "id": "388e5a63",
   "metadata": {},
   "outputs": [],
   "source": [
    "\n",
    "write.csv(TestingJan21PM25,\"TestTrainValid/TestingJan21PM25.csv\")\n",
    "write.csv(ValidationJan21PM25,\"TestTrainValid/ValidationJan21PM25.csv\")\n",
    "write.csv(Jan21PM25Org,\"TestTrainValid/Jan21PM25Org.csv\")"
   ]
  },
  {
   "cell_type": "code",
   "execution_count": 13,
   "id": "c8ad4af7",
   "metadata": {},
   "outputs": [],
   "source": [
    "\n",
    "Jan21NO_tr_test <- initial_time_split(Jan21NOOriginal, prop = 3/4)\n",
    "TrainingJan21NO <- training(Jan21NO_tr_test)\n",
    "TestingJan21NO <- testing(Jan21NO_tr_test)\n",
    "Jan21NO_tr_val <- initial_time_split(TrainingJan21NO, prop = 2/3)\n",
    "Jan21NOOrg <- training(Jan21NO_tr_val)\n",
    "ValidationJan21NO <- testing(Jan21NO_tr_val)"
   ]
  },
  {
   "cell_type": "code",
   "execution_count": 14,
   "id": "bfb6f18e",
   "metadata": {},
   "outputs": [],
   "source": [
    "\n",
    "write.csv(TestingJan21NO,\"TestTrainValid/TestingJan21NO.csv\")\n",
    "write.csv(ValidationJan21NO,\"TestTrainValid/ValidationJan21NO.csv\")\n",
    "write.csv(Jan21NOOrg,\"TestTrainValid/Jan21NOOrg.csv\")"
   ]
  },
  {
   "cell_type": "code",
   "execution_count": 15,
   "id": "82a4110e",
   "metadata": {},
   "outputs": [],
   "source": [
    "\n",
    "Jan21NO2_tr_test <- initial_time_split(Jan21NO2Original, prop = 3/4)\n",
    "TrainingJan21NO2 <- training(Jan21NO2_tr_test)\n",
    "TestingJan21NO2 <- testing(Jan21NO2_tr_test)\n",
    "Jan21NO2_tr_val <- initial_time_split(TrainingJan21NO2, prop = 2/3)\n",
    "Jan21NO2Org <- training(Jan21NO2_tr_val)\n",
    "ValidationJan21NO2 <- testing(Jan21NO2_tr_val)"
   ]
  },
  {
   "cell_type": "code",
   "execution_count": 16,
   "id": "15e01fb6",
   "metadata": {},
   "outputs": [],
   "source": [
    "\n",
    "write.csv(TestingJan21NO2,\"TestTrainValid/TestingJan21NO2.csv\")\n",
    "write.csv(ValidationJan21NO2,\"TestTrainValid/ValidationJan21NO2.csv\")\n",
    "write.csv(Jan21NO2Org,\"TestTrainValid/Jan21NO2Org.csv\")"
   ]
  },
  {
   "cell_type": "code",
   "execution_count": 17,
   "id": "e6126437",
   "metadata": {},
   "outputs": [],
   "source": [
    "\n",
    "Jan21NOx_tr_test <- initial_time_split(Jan21NOxOriginal, prop = 3/4)\n",
    "TrainingJan21NOx <- training(Jan21NOx_tr_test)\n",
    "TestingJan21NOx <- testing(Jan21NOx_tr_test)\n",
    "Jan21NOx_tr_val <- initial_time_split(TrainingJan21NOx, prop = 2/3)\n",
    "Jan21NOxOrg <- training(Jan21NOx_tr_val)\n",
    "ValidationJan21NOx <- testing(Jan21NOx_tr_val)"
   ]
  },
  {
   "cell_type": "code",
   "execution_count": 18,
   "id": "1288e0eb",
   "metadata": {},
   "outputs": [],
   "source": [
    "\n",
    "write.csv(TestingJan21NOx,\"TestTrainValid/TestingJan21NOx.csv\")\n",
    "write.csv(ValidationJan21NOx,\"TestTrainValid/ValidationJan21NOx.csv\")\n",
    "write.csv(Jan21NOxOrg,\"TestTrainValid/Jan21NOxOrg.csv\")"
   ]
  },
  {
   "cell_type": "code",
   "execution_count": 19,
   "id": "7cdc704c",
   "metadata": {},
   "outputs": [],
   "source": [
    "\n",
    "Jan21SO2_tr_test <- initial_time_split(Jan21SO2Original, prop = 3/4)\n",
    "TrainingJan21SO2 <- training(Jan21SO2_tr_test)\n",
    "TestingJan21SO2 <- testing(Jan21SO2_tr_test)\n",
    "Jan21SO2_tr_val <- initial_time_split(TrainingJan21SO2, prop = 2/3)\n",
    "Jan21SO2Org <- training(Jan21SO2_tr_val)\n",
    "ValidationJan21SO2 <- testing(Jan21SO2_tr_val)"
   ]
  },
  {
   "cell_type": "code",
   "execution_count": 20,
   "id": "39a109f8",
   "metadata": {},
   "outputs": [],
   "source": [
    "\n",
    "write.csv(TestingJan21SO2,\"TestTrainValid/TestingJan21SO2.csv\")\n",
    "write.csv(ValidationJan21SO2,\"TestTrainValid/ValidationJan21SO2.csv\")\n",
    "write.csv(Jan21SO2Org,\"TestTrainValid/Jan21SO2Org.csv\")"
   ]
  },
  {
   "cell_type": "code",
   "execution_count": 21,
   "id": "e3f2446c",
   "metadata": {},
   "outputs": [],
   "source": [
    "\n",
    "Jan21All_tr_test <- initial_time_split(Jan21AllOriginal, prop = 3/4)\n",
    "TrainingJan21All <- training(Jan21All_tr_test)\n",
    "TestingJan21All <- testing(Jan21All_tr_test)\n",
    "Jan21All_tr_val <- initial_time_split(TrainingJan21All, prop = 2/3)\n",
    "Jan21AllOrg <- training(Jan21All_tr_val)\n",
    "ValidationJan21All <- testing(Jan21All_tr_val)"
   ]
  },
  {
   "cell_type": "code",
   "execution_count": 22,
   "id": "0ce2f0bd",
   "metadata": {},
   "outputs": [],
   "source": [
    "\n",
    "write.csv(TestingJan21All,\"TestTrainValid/TestingJan21All.csv\")\n",
    "write.csv(ValidationJan21All,\"TestTrainValid/ValidationJan21All.csv\")\n",
    "write.csv(Jan21AllOrg,\"TestTrainValid/Jan21AllOrg.csv\")"
   ]
  },
  {
   "cell_type": "code",
   "execution_count": 23,
   "id": "3540db1b",
   "metadata": {},
   "outputs": [],
   "source": [
    "\n",
    "#dim(Jan21AllOrg)\n",
    "#dim(TestingJan21All)\n",
    "#dim(ValidationJan21All)"
   ]
  },
  {
   "cell_type": "code",
   "execution_count": 24,
   "id": "ecabab00",
   "metadata": {},
   "outputs": [
    {
     "name": "stdout",
     "output_type": "stream",
     "text": [
      "[1] \"ARIMA_library_read_csv\"\n",
      "[1] \"Jan21AllOrg, TestingJan21All, ValidationJan21All\"\n",
      "[1] \"Jan21AllOrg replace All replace by PM25, NO, NO2, NOx, SO2\"\n"
     ]
    }
   ],
   "source": [
    "\n",
    "print('ARIMA_library_read_csv')\n",
    "print('Jan21AllOrg, TestingJan21All, ValidationJan21All')\n",
    "print('Jan21AllOrg replace All replace by PM25, NO, NO2, NOx, SO2')"
   ]
  },
  {
   "cell_type": "code",
   "execution_count": null,
   "id": "d5aa4a0d-91a4-49a4-9bbb-23db01021fab",
   "metadata": {},
   "outputs": [],
   "source": []
  },
  {
   "cell_type": "code",
   "execution_count": null,
   "id": "ace41aa5-6fc2-404b-a399-c417fb329e32",
   "metadata": {},
   "outputs": [],
   "source": []
  },
  {
   "cell_type": "code",
   "execution_count": null,
   "id": "476093cf-7bed-45dc-8380-b167908bd03c",
   "metadata": {},
   "outputs": [],
   "source": []
  },
  {
   "cell_type": "code",
   "execution_count": null,
   "id": "1d4cd656-fa87-43db-af15-2539893712af",
   "metadata": {},
   "outputs": [],
   "source": []
  },
  {
   "cell_type": "code",
   "execution_count": null,
   "id": "efd5e0d9-e379-411a-9ebf-33647b5ea696",
   "metadata": {},
   "outputs": [],
   "source": []
  },
  {
   "cell_type": "code",
   "execution_count": null,
   "id": "b8857fe3-b939-4863-aaf7-21c2059d5071",
   "metadata": {},
   "outputs": [],
   "source": []
  },
  {
   "cell_type": "code",
   "execution_count": null,
   "id": "15264de4-9369-4ddd-8299-2350154f59b9",
   "metadata": {},
   "outputs": [],
   "source": []
  },
  {
   "cell_type": "code",
   "execution_count": null,
   "id": "8c2ffda9-1b17-4215-8d48-3d84be7ca20e",
   "metadata": {},
   "outputs": [],
   "source": []
  }
 ],
 "metadata": {
  "kernelspec": {
   "display_name": "R",
   "language": "R",
   "name": "ir"
  },
  "language_info": {
   "codemirror_mode": "r",
   "file_extension": ".r",
   "mimetype": "text/x-r-source",
   "name": "R",
   "pygments_lexer": "r",
   "version": "4.3.1"
  }
 },
 "nbformat": 4,
 "nbformat_minor": 5
}
