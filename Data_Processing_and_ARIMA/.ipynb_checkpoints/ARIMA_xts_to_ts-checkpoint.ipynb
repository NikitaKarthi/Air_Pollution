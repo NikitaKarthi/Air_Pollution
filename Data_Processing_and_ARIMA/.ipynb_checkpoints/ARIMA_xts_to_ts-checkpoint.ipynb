{
 "cells": [
  {
   "cell_type": "code",
   "execution_count": 1,
   "id": "4b58f5f3",
   "metadata": {},
   "outputs": [
    {
     "name": "stderr",
     "output_type": "stream",
     "text": [
      "Registered S3 method overwritten by 'quantmod':\n",
      "  method            from\n",
      "  as.zoo.data.frame zoo \n",
      "\n",
      "Loading required package: zoo\n",
      "\n",
      "\n",
      "Attaching package: ‘zoo’\n",
      "\n",
      "\n",
      "The following objects are masked from ‘package:base’:\n",
      "\n",
      "    as.Date, as.Date.numeric\n",
      "\n",
      "\n"
     ]
    },
    {
     "name": "stdout",
     "output_type": "stream",
     "text": [
      "[1] \"ARIMA_library_read_csv\"\n",
      "[1] \"Jan21AllOrg, TestingJan21All, ValidationJan21All\"\n",
      "[1] \"Jan21AllOrg replace All replace by PM25, NO, NO2, NOx, SO2\"\n"
     ]
    },
    {
     "name": "stderr",
     "output_type": "stream",
     "text": [
      "Warning message in lapply(Jan21Alldata[\"PM25\"], as.numeric):\n",
      "“NAs introduced by coercion”\n",
      "Warning message in lapply(Jan21Alldata[\"NO\"], as.numeric):\n",
      "“NAs introduced by coercion”\n",
      "Warning message in lapply(Jan21Alldata[\"NO2\"], as.numeric):\n",
      "“NAs introduced by coercion”\n",
      "Warning message in lapply(Jan21Alldata[\"NOx\"], as.numeric):\n",
      "“NAs introduced by coercion”\n",
      "Warning message in lapply(Jan21Alldata[\"SO2\"], as.numeric):\n",
      "“NAs introduced by coercion”\n",
      "Warning message in lapply(Jan21PM25data[\"PM25\"], as.numeric):\n",
      "“NAs introduced by coercion”\n",
      "Warning message in lapply(Jan21NOdata[\"NO\"], as.numeric):\n",
      "“NAs introduced by coercion”\n",
      "Warning message in lapply(Jan21NO2data[\"NO2\"], as.numeric):\n",
      "“NAs introduced by coercion”\n",
      "Warning message in lapply(Jan21NOxdata[\"NOx\"], as.numeric):\n",
      "“NAs introduced by coercion”\n",
      "Warning message in lapply(Jan21SO2data[\"SO2\"], as.numeric):\n",
      "“NAs introduced by coercion”\n"
     ]
    },
    {
     "name": "stdout",
     "output_type": "stream",
     "text": [
      "[1] \"ARIMA_to_xts\"\n",
      "[1] \"Jan21PM25_value <- as.numeric(xts_Jan21PM25[,4])\"\n",
      "[1] \"xts_Jan21All replace All\"\n",
      "[1] \"ARIMA_missing_values\"\n",
      "[1] \"xts_Jan21All_Fill replace All\"\n",
      "[1] \"ARIMA_smoothen\"\n",
      "[1] \"xts_Jan21All_Smooth replace All\"\n"
     ]
    }
   ],
   "source": [
    "source('ARIMA_smoothen.r')"
   ]
  },
  {
   "cell_type": "code",
   "execution_count": 4,
   "id": "b9cddb15",
   "metadata": {},
   "outputs": [],
   "source": [
    "ts_Jan21PM25_Smooth = ts(xts_Jan21PM25_Smooth)\n",
    "ts_Jan21NO_Smooth = ts(xts_Jan21NO_Smooth)\n",
    "ts_Jan21NO2_Smooth = ts(xts_Jan21NO2_Smooth)\n",
    "ts_Jan21NOx_Smooth = ts(xts_Jan21NOx_Smooth)\n",
    "ts_Jan21SO2_Smooth = ts(xts_Jan21SO2_Smooth)\n"
   ]
  },
  {
   "cell_type": "code",
   "execution_count": 5,
   "id": "8c889fe6",
   "metadata": {},
   "outputs": [
    {
     "data": {
      "text/html": [
       "<style>\n",
       ".list-inline {list-style: none; margin:0; padding: 0}\n",
       ".list-inline>li {display: inline-block}\n",
       ".list-inline>li:not(:last-child)::after {content: \"\\00b7\"; padding: 0 .5ex}\n",
       "</style>\n",
       "<ol class=list-inline><li>'mts'</li><li>'ts'</li><li>'matrix'</li></ol>\n"
      ],
      "text/latex": [
       "\\begin{enumerate*}\n",
       "\\item 'mts'\n",
       "\\item 'ts'\n",
       "\\item 'matrix'\n",
       "\\end{enumerate*}\n"
      ],
      "text/markdown": [
       "1. 'mts'\n",
       "2. 'ts'\n",
       "3. 'matrix'\n",
       "\n",
       "\n"
      ],
      "text/plain": [
       "[1] \"mts\"    \"ts\"     \"matrix\""
      ]
     },
     "metadata": {},
     "output_type": "display_data"
    }
   ],
   "source": [
    "class(ts_Jan21SO2_Smooth)"
   ]
  },
  {
   "cell_type": "code",
   "execution_count": 8,
   "id": "45c479b9",
   "metadata": {},
   "outputs": [],
   "source": [
    "ts_Jan21All_Smooth = cbind(ts_Jan21PM25_Smooth, ts_Jan21NO_Smooth[,4], ts_Jan21NO2_Smooth[,4], ts_Jan21NOx_Smooth[,4], ts_Jan21SO2_Smooth[,4])\n",
    "#ts_Jan21All_Smooth"
   ]
  },
  {
   "cell_type": "code",
   "execution_count": 4,
   "id": "3c56573e",
   "metadata": {},
   "outputs": [
    {
     "name": "stdout",
     "output_type": "stream",
     "text": [
      "[1] \"ARIMA_xts_to_ts\"\n",
      "[1] \"ts_Jan21All_Smooth replace All\"\n"
     ]
    }
   ],
   "source": [
    "print('ARIMA_xts_to_ts')\n",
    "print('ts_Jan21All_Smooth replace All')"
   ]
  },
  {
   "cell_type": "code",
   "execution_count": null,
   "id": "856664f4",
   "metadata": {},
   "outputs": [],
   "source": []
  }
 ],
 "metadata": {
  "kernelspec": {
   "display_name": "R",
   "language": "R",
   "name": "ir"
  },
  "language_info": {
   "codemirror_mode": "r",
   "file_extension": ".r",
   "mimetype": "text/x-r-source",
   "name": "R",
   "pygments_lexer": "r",
   "version": "4.3.1"
  }
 },
 "nbformat": 4,
 "nbformat_minor": 5
}
