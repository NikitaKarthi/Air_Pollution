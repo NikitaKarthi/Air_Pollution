{
 "cells": [
  {
   "cell_type": "code",
   "execution_count": 2,
   "id": "1bb32850",
   "metadata": {},
   "outputs": [
    {
     "name": "stdout",
     "output_type": "stream",
     "text": [
      "[1] \"ARIMA_library_read_csv\"\n",
      "[1] \"Jan21AllOrg, TestingJan21All, ValidationJan21All\"\n",
      "[1] \"Jan21AllOrg replace All replace by PM25, NO, NO2, NOx, SO2\"\n"
     ]
    },
    {
     "name": "stderr",
     "output_type": "stream",
     "text": [
      "Warning message in lapply(Jan21Alldata[\"PM25\"], as.numeric):\n",
      "“NAs introduced by coercion”\n",
      "Warning message in lapply(Jan21Alldata[\"NO\"], as.numeric):\n",
      "“NAs introduced by coercion”\n",
      "Warning message in lapply(Jan21Alldata[\"NO2\"], as.numeric):\n",
      "“NAs introduced by coercion”\n",
      "Warning message in lapply(Jan21Alldata[\"NOx\"], as.numeric):\n",
      "“NAs introduced by coercion”\n",
      "Warning message in lapply(Jan21Alldata[\"SO2\"], as.numeric):\n",
      "“NAs introduced by coercion”\n",
      "Warning message in lapply(Jan21PM25data[\"PM25\"], as.numeric):\n",
      "“NAs introduced by coercion”\n",
      "Warning message in lapply(Jan21NOdata[\"NO\"], as.numeric):\n",
      "“NAs introduced by coercion”\n",
      "Warning message in lapply(Jan21NO2data[\"NO2\"], as.numeric):\n",
      "“NAs introduced by coercion”\n",
      "Warning message in lapply(Jan21NOxdata[\"NOx\"], as.numeric):\n",
      "“NAs introduced by coercion”\n",
      "Warning message in lapply(Jan21SO2data[\"SO2\"], as.numeric):\n",
      "“NAs introduced by coercion”\n"
     ]
    },
    {
     "name": "stdout",
     "output_type": "stream",
     "text": [
      "[1] \"ARIMA_to_xts\"\n",
      "[1] \"Jan21PM25_value <- as.numeric(xts_Jan21PM25[,4])\"\n",
      "[1] \"xts_Jan21All replace All\"\n"
     ]
    }
   ],
   "source": [
    "source('ARIMA_to_xts.r')"
   ]
  },
  {
   "cell_type": "code",
   "execution_count": 4,
   "id": "d7e72e2f",
   "metadata": {},
   "outputs": [],
   "source": [
    "#xts_Jan21PM25[,4]\n",
    "xts_Jan21PM25Value = as.numeric(xts_Jan21PM25[,4])\n",
    "#xts_Jan21PM25Value\n",
    "\n",
    "xts_Jan21PM25_filled = na.interp(xts_Jan21PM25Value)\n",
    "#xts_Jan21PM25_filled\n",
    "\n",
    "xts_Jan21PM25_Fill <- xts_Jan21PM25\n",
    "#xts_Jan21PM25_Fill\n",
    "\n",
    "xts_Jan21PM25_Fill[,4] <- xts_Jan21PM25_filled\n",
    "#xts_Jan21PM25_Fill"
   ]
  },
  {
   "cell_type": "code",
   "execution_count": 55,
   "id": "b66bc444",
   "metadata": {},
   "outputs": [],
   "source": [
    "#xts_Jan21NO[,4]\n",
    "xts_Jan21NOValue = as.numeric(xts_Jan21NO[,4])\n",
    "#xts_Jan21NOValue\n",
    "\n",
    "xts_Jan21NO_filled = na.interp(xts_Jan21NOValue)\n",
    "#xts_Jan21NO_filled\n",
    "\n",
    "xts_Jan21NO_Fill <- xts_Jan21NO\n",
    "#xts_Jan21NO_Fill\n",
    "\n",
    "xts_Jan21NO_Fill[,4] <- xts_Jan21NO_filled\n",
    "#xts_Jan21NO_Fill"
   ]
  },
  {
   "cell_type": "code",
   "execution_count": 56,
   "id": "c397ca38",
   "metadata": {},
   "outputs": [],
   "source": [
    "#xts_Jan21NO2[,4]\n",
    "xts_Jan21NO2Value = as.numeric(xts_Jan21NO2[,4])\n",
    "#xts_Jan21NO2Value\n",
    "\n",
    "xts_Jan21NO2_filled = na.interp(xts_Jan21NO2Value)\n",
    "#xts_Jan21NO2_filled\n",
    "\n",
    "xts_Jan21NO2_Fill <- xts_Jan21NO2\n",
    "#xts_Jan21NO2_Fill\n",
    "\n",
    "xts_Jan21NO2_Fill[,4] <- xts_Jan21NO2_filled\n",
    "#xts_Jan21NO2_Fill"
   ]
  },
  {
   "cell_type": "code",
   "execution_count": 57,
   "id": "cf7fcf81",
   "metadata": {},
   "outputs": [],
   "source": [
    "#xts_Jan21NOx[,4]\n",
    "xts_Jan21NOxValue = as.numeric(xts_Jan21NOx[,4])\n",
    "#xts_Jan21NOxValue\n",
    "\n",
    "xts_Jan21NOx_filled = na.interp(xts_Jan21NOxValue)\n",
    "#xts_Jan21NOx_filled\n",
    "\n",
    "xts_Jan21NOx_Fill <- xts_Jan21NOx\n",
    "#xts_Jan21NOx_Fill\n",
    "\n",
    "xts_Jan21NOx_Fill[,4] <- xts_Jan21NOx_filled\n",
    "#xts_Jan21NOx_Fill"
   ]
  },
  {
   "cell_type": "code",
   "execution_count": 58,
   "id": "fbc9300d",
   "metadata": {},
   "outputs": [],
   "source": [
    "#xts_Jan21SO2[,4]\n",
    "xts_Jan21SO2Value = as.numeric(xts_Jan21SO2[,4])\n",
    "#xts_Jan21SO2Value\n",
    "\n",
    "xts_Jan21SO2_filled = na.interp(xts_Jan21SO2Value)\n",
    "#xts_Jan21SO2_filled\n",
    "\n",
    "xts_Jan21SO2_Fill <- xts_Jan21SO2\n",
    "#xts_Jan21SO2_Fill\n",
    "\n",
    "xts_Jan21SO2_Fill[,4] <- xts_Jan21SO2_filled\n",
    "#xts_Jan21SO2_Fill"
   ]
  },
  {
   "cell_type": "code",
   "execution_count": 74,
   "id": "466d1dcb",
   "metadata": {},
   "outputs": [],
   "source": [
    "xts_Jan21All_Fill <- xts_Jan21All\n",
    "#xts_Jan21SO2_Fill\n",
    "\n",
    "xts_Jan21All_Fill[,4] <- xts_Jan21PM25_filled\n",
    "xts_Jan21All_Fill[,5] <- xts_Jan21NO_filled\n",
    "xts_Jan21All_Fill[,6] <- xts_Jan21NO2_filled\n",
    "xts_Jan21All_Fill[,7] <- xts_Jan21NOx_filled\n",
    "xts_Jan21All_Fill[,8] <- xts_Jan21SO2_filled\n",
    "\n",
    "#xts_Jan21All_Fill"
   ]
  },
  {
   "cell_type": "code",
   "execution_count": null,
   "id": "2760a6a7",
   "metadata": {},
   "outputs": [],
   "source": [
    "print('ARIMA_missing_values')\n",
    "print('xts_Jan21All_Fill replace All')"
   ]
  }
 ],
 "metadata": {
  "kernelspec": {
   "display_name": "R",
   "language": "R",
   "name": "ir"
  },
  "language_info": {
   "codemirror_mode": "r",
   "file_extension": ".r",
   "mimetype": "text/x-r-source",
   "name": "R",
   "pygments_lexer": "r",
   "version": "4.3.1"
  }
 },
 "nbformat": 4,
 "nbformat_minor": 5
}
