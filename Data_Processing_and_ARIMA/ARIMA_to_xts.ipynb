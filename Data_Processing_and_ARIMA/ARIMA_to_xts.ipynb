{
 "cells": [
  {
   "cell_type": "code",
   "execution_count": 2,
   "id": "e2851b58-3085-4fe4-b0b1-f7ba0152637e",
   "metadata": {},
   "outputs": [
    {
     "name": "stderr",
     "output_type": "stream",
     "text": [
      "Registered S3 method overwritten by 'quantmod':\n",
      "  method            from\n",
      "  as.zoo.data.frame zoo \n",
      "\n",
      "Loading required package: zoo\n",
      "\n",
      "\n",
      "Attaching package: ‘zoo’\n",
      "\n",
      "\n",
      "The following objects are masked from ‘package:base’:\n",
      "\n",
      "    as.Date, as.Date.numeric\n",
      "\n",
      "\n"
     ]
    },
    {
     "name": "stdout",
     "output_type": "stream",
     "text": [
      "[1] \"ARIMA_library_read_csv\"\n",
      "[1] \"Jan21AllOrg, TestingJan21All, ValidationJan21All\"\n",
      "[1] \"Jan21AllOrg replace All replace by PM25, NO, NO2, NOx, SO2\"\n"
     ]
    }
   ],
   "source": [
    "source('ARIMA_library_read_csv.r')"
   ]
  },
  {
   "cell_type": "code",
   "execution_count": null,
   "id": "2a9748ec-d11a-47cb-b01b-25519a317ce8",
   "metadata": {},
   "outputs": [],
   "source": []
  },
  {
   "cell_type": "code",
   "execution_count": 4,
   "id": "3847834f",
   "metadata": {},
   "outputs": [
    {
     "ename": "ERROR",
     "evalue": "Error in eval(expr, envir, enclos): object 'Jan21AllOrg' not found\n",
     "output_type": "error",
     "traceback": [
      "Error in eval(expr, envir, enclos): object 'Jan21AllOrg' not found\nTraceback:\n"
     ]
    }
   ],
   "source": [
    "#Get the desired data\n",
    "Jan21Alldata = Jan21AllOrg[5:nrow(Jan21AllOrg),]\n",
    "Jan21AllOrg[0:10,]\n",
    "colnames(Jan21Alldata) <- c('Index', 'From Date', 'To Date', 'PM25', 'NO', 'NO2', 'NOx', 'SO2')\n",
    "\n",
    "#Create time series index.\n",
    "rawIndexJan21All = c(Jan21Alldata['From Date'])\n",
    "indexJan21All = unlist(rawIndexJan21All)\n",
    "xts_indexJan21All = strptime(indexJan21All, format = c(\"%e-%m-%Y %H:%M\"))\n",
    "\n",
    "#Col names for dataframe\n",
    "Jan21Alldata['Index'] <- lapply(Jan21Alldata['Index'], as.numeric)\n",
    "Jan21Alldata['From Date'] <- lapply(Jan21Alldata['From Date'], strptime, format = c(\"%e-%m-%Y %H:%M\"))\n",
    "Jan21Alldata['To Date'] <- lapply(Jan21Alldata['To Date'], strptime, format = c(\"%e-%m-%Y %H:%M\"))\n",
    "Jan21Alldata['PM25'] <- lapply(Jan21Alldata['PM25'], as.numeric)\n",
    "Jan21Alldata['NO'] <- lapply(Jan21Alldata['NO'], as.numeric)\n",
    "Jan21Alldata['NO2'] <- lapply(Jan21Alldata['NO2'], as.numeric)\n",
    "Jan21Alldata['NOx'] <- lapply(Jan21Alldata['NOx'], as.numeric)\n",
    "Jan21Alldata['SO2'] <- lapply(Jan21Alldata['SO2'], as.numeric)\n",
    "#Jan21Alldata[0:10,]\n",
    "\n",
    "#convert to xts\n",
    "xts_Jan21All = as.xts(Jan21Alldata, order.by = xts_indexJan21All)\n",
    "#class(xts_Jan21All)\n",
    "#xts_Jan21All[0:10,]"
   ]
  },
  {
   "cell_type": "code",
   "execution_count": 3,
   "id": "e53fdb79",
   "metadata": {},
   "outputs": [
    {
     "name": "stderr",
     "output_type": "stream",
     "text": [
      "Warning message in lapply(Jan21PM25data[\"PM25\"], as.numeric):\n",
      "“NAs introduced by coercion”\n"
     ]
    }
   ],
   "source": [
    "#Get the desired data\n",
    "Jan21PM25data = Jan21PM25Org[5:nrow(Jan21PM25Org),]\n",
    "colnames(Jan21PM25data) <- c('Index', 'From Date', 'To Date', 'PM25')\n",
    "\n",
    "#Create time series index.\n",
    "rawIndexJan21PM25 = c(Jan21PM25data['From Date'])\n",
    "indexJan21PM25 = unlist(rawIndexJan21PM25)\n",
    "xts_indexJan21PM25 = strptime(indexJan21PM25, format = c(\"%e-%m-%Y %H:%M\"))\n",
    "\n",
    "#Col names for dataframe\n",
    "Jan21PM25data['Index'] <- lapply(Jan21PM25data['Index'], as.numeric)\n",
    "Jan21PM25data['From Date'] <- lapply(Jan21PM25data['From Date'], strptime, format = c(\"%e-%m-%Y %H:%M\"))\n",
    "Jan21PM25data['To Date'] <- lapply(Jan21PM25data['To Date'], strptime, format = c(\"%e-%m-%Y %H:%M\"))\n",
    "Jan21PM25data['PM25'] <- lapply(Jan21PM25data['PM25'], as.numeric)\n",
    "#Jan21PM25data[0:10,]\n",
    "\n",
    "#convert to xts\n",
    "xts_Jan21PM25 = as.xts(Jan21PM25data, order.by = xts_indexJan21PM25)\n",
    "#class(xts_Jan21PM25)\n",
    "#xts_Jan21PM25"
   ]
  },
  {
   "cell_type": "code",
   "execution_count": 4,
   "id": "04cd0806",
   "metadata": {},
   "outputs": [
    {
     "name": "stderr",
     "output_type": "stream",
     "text": [
      "Warning message in lapply(Jan21NOdata[\"NO\"], as.numeric):\n",
      "“NAs introduced by coercion”\n"
     ]
    }
   ],
   "source": [
    "#Get the desired data\n",
    "Jan21NOdata = Jan21NOOrg[5:nrow(Jan21NOOrg),]\n",
    "colnames(Jan21NOdata) <- c('Index', 'From Date', 'To Date', 'NO')\n",
    "\n",
    "#Create time series index.\n",
    "rawIndexJan21NO = c(Jan21NOdata['From Date'])\n",
    "indexJan21NO = unlist(rawIndexJan21NO)\n",
    "xts_indexJan21NO = strptime(indexJan21NO, format = c(\"%e-%m-%Y %H:%M\"))\n",
    "\n",
    "#Col names for dataframe\n",
    "Jan21NOdata['Index'] <- lapply(Jan21NOdata['Index'], as.numeric)\n",
    "Jan21NOdata['From Date'] <- lapply(Jan21NOdata['From Date'], strptime, format = c(\"%e-%m-%Y %H:%M\"))\n",
    "Jan21NOdata['To Date'] <- lapply(Jan21NOdata['To Date'], strptime, format = c(\"%e-%m-%Y %H:%M\"))\n",
    "Jan21NOdata['NO'] <- lapply(Jan21NOdata['NO'], as.numeric)\n",
    "#Jan21NOdata[0:10,]\n",
    "\n",
    "#convert to xts\n",
    "xts_Jan21NO = as.xts(Jan21NOdata, order.by = xts_indexJan21NO)\n",
    "#class(xts_Jan21NO)\n",
    "#xts_Jan21NO"
   ]
  },
  {
   "cell_type": "code",
   "execution_count": 5,
   "id": "360a4012",
   "metadata": {},
   "outputs": [
    {
     "name": "stderr",
     "output_type": "stream",
     "text": [
      "Warning message in lapply(Jan21NO2data[\"NO2\"], as.numeric):\n",
      "“NAs introduced by coercion”\n"
     ]
    }
   ],
   "source": [
    "#Get the desired data\n",
    "Jan21NO2data = Jan21NO2Org[5:nrow(Jan21NO2Org),]\n",
    "colnames(Jan21NO2data) <- c('Index', 'From Date', 'To Date', 'NO2')\n",
    "\n",
    "#Create time series index.\n",
    "rawIndexJan21NO2 = c(Jan21NO2data['From Date'])\n",
    "indexJan21NO2 = unlist(rawIndexJan21NO2)\n",
    "xts_indexJan21NO2 = strptime(indexJan21NO2, format = c(\"%e-%m-%Y %H:%M\"))\n",
    "\n",
    "#Col names for dataframe\n",
    "Jan21NO2data['Index'] <- lapply(Jan21NO2data['Index'], as.numeric)\n",
    "Jan21NO2data['From Date'] <- lapply(Jan21NO2data['From Date'], strptime, format = c(\"%e-%m-%Y %H:%M\"))\n",
    "Jan21NO2data['To Date'] <- lapply(Jan21NO2data['To Date'], strptime, format = c(\"%e-%m-%Y %H:%M\"))\n",
    "Jan21NO2data['NO2'] <- lapply(Jan21NO2data['NO2'], as.numeric)\n",
    "#Jan21NO2data[0:10,]\n",
    "\n",
    "#convert to xts\n",
    "xts_Jan21NO2 = as.xts(Jan21NO2data, order.by = xts_indexJan21NO2)\n",
    "#class(xts_Jan21NO2)\n",
    "#xts_Jan21NO2"
   ]
  },
  {
   "cell_type": "code",
   "execution_count": 6,
   "id": "36c42234",
   "metadata": {},
   "outputs": [
    {
     "name": "stderr",
     "output_type": "stream",
     "text": [
      "Warning message in lapply(Jan21NOxdata[\"NOx\"], as.numeric):\n",
      "“NAs introduced by coercion”\n"
     ]
    }
   ],
   "source": [
    "#Get the desired data\n",
    "Jan21NOxdata = Jan21NOxOrg[5:nrow(Jan21NOxOrg),]\n",
    "colnames(Jan21NOxdata) <- c('Index', 'From Date', 'To Date', 'NOx')\n",
    "\n",
    "#Create time series index.\n",
    "rawIndexJan21NOx = c(Jan21NOxdata['From Date'])\n",
    "indexJan21NOx = unlist(rawIndexJan21NOx)\n",
    "xts_indexJan21NOx = strptime(indexJan21NOx, format = c(\"%e-%m-%Y %H:%M\"))\n",
    "\n",
    "#Col names for dataframe\n",
    "Jan21NOxdata['Index'] <- lapply(Jan21NOxdata['Index'], as.numeric)\n",
    "Jan21NOxdata['From Date'] <- lapply(Jan21NOxdata['From Date'], strptime, format = c(\"%e-%m-%Y %H:%M\"))\n",
    "Jan21NOxdata['To Date'] <- lapply(Jan21NOxdata['To Date'], strptime, format = c(\"%e-%m-%Y %H:%M\"))\n",
    "Jan21NOxdata['NOx'] <- lapply(Jan21NOxdata['NOx'], as.numeric)\n",
    "#Jan21NOxdata[0:10,]\n",
    "\n",
    "#convert to xts\n",
    "xts_Jan21NOx = as.xts(Jan21NOxdata, order.by = xts_indexJan21NOx)\n",
    "#class(xts_Jan21NOx)\n",
    "#xts_Jan21NOx"
   ]
  },
  {
   "cell_type": "code",
   "execution_count": 7,
   "id": "bd02769a",
   "metadata": {},
   "outputs": [
    {
     "name": "stderr",
     "output_type": "stream",
     "text": [
      "Warning message in lapply(Jan21SO2data[\"SO2\"], as.numeric):\n",
      "“NAs introduced by coercion”\n"
     ]
    }
   ],
   "source": [
    "#Get the desired data\n",
    "Jan21SO2data = Jan21SO2Org[5:nrow(Jan21SO2Org),]\n",
    "colnames(Jan21SO2data) <- c('Index', 'From Date', 'To Date', 'SO2')\n",
    "\n",
    "#Create time series index.\n",
    "rawIndexJan21SO2 = c(Jan21SO2data['From Date'])\n",
    "indexJan21SO2 = unlist(rawIndexJan21SO2)\n",
    "xts_indexJan21SO2 = strptime(indexJan21SO2, format = c(\"%e-%m-%Y %H:%M\"))\n",
    "\n",
    "#Col names for dataframe\n",
    "Jan21SO2data['Index'] <- lapply(Jan21SO2data['Index'], as.numeric)\n",
    "Jan21SO2data['From Date'] <- lapply(Jan21SO2data['From Date'], strptime, format = c(\"%e-%m-%Y %H:%M\"))\n",
    "Jan21SO2data['To Date'] <- lapply(Jan21SO2data['To Date'], strptime, format = c(\"%e-%m-%Y %H:%M\"))\n",
    "Jan21SO2data['SO2'] <- lapply(Jan21SO2data['SO2'], as.numeric)\n",
    "#Jan21SO2data[0:10,]\n",
    "\n",
    "#convert to xts\n",
    "xts_Jan21SO2 = as.xts(Jan21SO2data, order.by = xts_indexJan21SO2)\n",
    "#class(xts_Jan21SO2)\n",
    "#xts_Jan21SO2"
   ]
  },
  {
   "cell_type": "code",
   "execution_count": null,
   "id": "d0e23cab",
   "metadata": {},
   "outputs": [],
   "source": []
  },
  {
   "cell_type": "code",
   "execution_count": 8,
   "id": "62e4ab9d",
   "metadata": {},
   "outputs": [
    {
     "name": "stdout",
     "output_type": "stream",
     "text": [
      "[1] \"ARIMA_to_xts\"\n",
      "[1] \"Jan21PM25_value <- as.numeric(xts_Jan21PM25[,4])\"\n",
      "[1] \"xts_Jan21All replace All\"\n"
     ]
    }
   ],
   "source": [
    "print('ARIMA_to_xts')\n",
    "print('Jan21PM25_value <- as.numeric(xts_Jan21PM25[,4])')\n",
    "print('xts_Jan21All replace All')"
   ]
  }
 ],
 "metadata": {
  "kernelspec": {
   "display_name": "R",
   "language": "R",
   "name": "ir"
  },
  "language_info": {
   "codemirror_mode": "r",
   "file_extension": ".r",
   "mimetype": "text/x-r-source",
   "name": "R",
   "pygments_lexer": "r",
   "version": "4.3.1"
  }
 },
 "nbformat": 4,
 "nbformat_minor": 5
}
