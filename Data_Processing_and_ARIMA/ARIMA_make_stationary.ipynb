{
 "cells": [
  {
   "cell_type": "code",
   "execution_count": 1,
   "id": "4b58f5f3",
   "metadata": {
    "tags": []
   },
   "outputs": [
    {
     "name": "stderr",
     "output_type": "stream",
     "text": [
      "Registered S3 method overwritten by 'quantmod':\n",
      "  method            from\n",
      "  as.zoo.data.frame zoo \n",
      "\n",
      "Loading required package: zoo\n",
      "\n",
      "\n",
      "Attaching package: ‘zoo’\n",
      "\n",
      "\n",
      "The following objects are masked from ‘package:base’:\n",
      "\n",
      "    as.Date, as.Date.numeric\n",
      "\n",
      "\n"
     ]
    },
    {
     "name": "stdout",
     "output_type": "stream",
     "text": [
      "[1] \"ARIMA_library_read_csv\"\n",
      "[1] \"Jan21AllOrg, TestingJan21All, ValidationJan21All\"\n",
      "[1] \"Jan21AllOrg replace All replace by PM25, NO, NO2, NOx, SO2\"\n"
     ]
    },
    {
     "name": "stderr",
     "output_type": "stream",
     "text": [
      "Warning message in lapply(Jan21Alldata[\"PM25\"], as.numeric):\n",
      "“NAs introduced by coercion”\n",
      "Warning message in lapply(Jan21Alldata[\"NO\"], as.numeric):\n",
      "“NAs introduced by coercion”\n",
      "Warning message in lapply(Jan21Alldata[\"NO2\"], as.numeric):\n",
      "“NAs introduced by coercion”\n",
      "Warning message in lapply(Jan21Alldata[\"NOx\"], as.numeric):\n",
      "“NAs introduced by coercion”\n",
      "Warning message in lapply(Jan21Alldata[\"SO2\"], as.numeric):\n",
      "“NAs introduced by coercion”\n",
      "Warning message in lapply(Jan21PM25data[\"PM25\"], as.numeric):\n",
      "“NAs introduced by coercion”\n",
      "Warning message in lapply(Jan21NOdata[\"NO\"], as.numeric):\n",
      "“NAs introduced by coercion”\n",
      "Warning message in lapply(Jan21NO2data[\"NO2\"], as.numeric):\n",
      "“NAs introduced by coercion”\n",
      "Warning message in lapply(Jan21NOxdata[\"NOx\"], as.numeric):\n",
      "“NAs introduced by coercion”\n",
      "Warning message in lapply(Jan21SO2data[\"SO2\"], as.numeric):\n",
      "“NAs introduced by coercion”\n"
     ]
    },
    {
     "name": "stdout",
     "output_type": "stream",
     "text": [
      "[1] \"ARIMA_to_xts\"\n",
      "[1] \"Jan21PM25_value <- as.numeric(xts_Jan21PM25[,4])\"\n",
      "[1] \"xts_Jan21All replace All\"\n",
      "[1] \"ARIMA_missing_values\"\n",
      "[1] \"xts_Jan21All_Fill replace All\"\n",
      "[1] \"ARIMA_smoothen\"\n",
      "[1] \"xts_Jan21All_Smooth replace All\"\n",
      "[1] \"ARIMA_xts_to_ts\"\n",
      "[1] \"ts_Jan21All_Smooth replace All\"\n",
      "[1] \"ARIMA_Value_acf_plot\"\n",
      "[1] \"ts_Jan21PM25_Smooth_value replace PM25\"\n"
     ]
    }
   ],
   "source": [
    "source('ARIMA_Value_acf_plot.r')"
   ]
  },
  {
   "cell_type": "code",
   "execution_count": 2,
   "id": "478f5037",
   "metadata": {
    "tags": []
   },
   "outputs": [],
   "source": [
    "library(urca)\n",
    "#library(aTSA)\n",
    "#library(tseries)"
   ]
  },
  {
   "cell_type": "code",
   "execution_count": 3,
   "id": "489eb691",
   "metadata": {
    "tags": []
   },
   "outputs": [
    {
     "data": {
      "text/html": [
       "1"
      ],
      "text/latex": [
       "1"
      ],
      "text/markdown": [
       "1"
      ],
      "text/plain": [
       "[1] 1"
      ]
     },
     "metadata": {},
     "output_type": "display_data"
    }
   ],
   "source": [
    "numOfDiff_Jan21PM25 <- ndiffs(ts_Jan21PM25_Smooth_value)\n",
    "numOfDiff_Jan21PM25\n",
    "\n",
    "Jan21PM25_dfFit <- ur.df(ts_Jan21PM25_Smooth_value)\n",
    "#summary(Jan21PM25_dfFit)\n",
    "#plot(Jan21PM25_dfFit)\n",
    "#stationary"
   ]
  },
  {
   "cell_type": "code",
   "execution_count": 4,
   "id": "eb0d0fef",
   "metadata": {
    "tags": []
   },
   "outputs": [
    {
     "data": {
      "text/html": [
       "1"
      ],
      "text/latex": [
       "1"
      ],
      "text/markdown": [
       "1"
      ],
      "text/plain": [
       "[1] 1"
      ]
     },
     "metadata": {},
     "output_type": "display_data"
    }
   ],
   "source": [
    "numOfDiff_Jan21NO <- ndiffs(ts_Jan21NO_Smooth_value)\n",
    "numOfDiff_Jan21NO\n",
    "\n",
    "Jan21NO_dfFit <- ur.df(ts_Jan21NO_Smooth_value)\n",
    "#summary(Jan21NO_dfFit)\n",
    "#plot(Jan21NO_dfFit)\n",
    "#stationary"
   ]
  },
  {
   "cell_type": "code",
   "execution_count": 5,
   "id": "ead7d099",
   "metadata": {
    "tags": []
   },
   "outputs": [
    {
     "data": {
      "text/html": [
       "1"
      ],
      "text/latex": [
       "1"
      ],
      "text/markdown": [
       "1"
      ],
      "text/plain": [
       "[1] 1"
      ]
     },
     "metadata": {},
     "output_type": "display_data"
    }
   ],
   "source": [
    "numOfDiff_Jan21NO2 <- ndiffs(ts_Jan21NO2_Smooth_value)\n",
    "numOfDiff_Jan21NO2\n",
    "\n",
    "Jan21NO2_dfFit <- ur.df(ts_Jan21NO2_Smooth_value)\n",
    "#summary(Jan21NO2_dfFit)\n",
    "#plot(Jan21NO2_dfFit)\n",
    "#stationary"
   ]
  },
  {
   "cell_type": "code",
   "execution_count": 6,
   "id": "73bee652",
   "metadata": {
    "tags": []
   },
   "outputs": [
    {
     "data": {
      "text/html": [
       "1"
      ],
      "text/latex": [
       "1"
      ],
      "text/markdown": [
       "1"
      ],
      "text/plain": [
       "[1] 1"
      ]
     },
     "metadata": {},
     "output_type": "display_data"
    }
   ],
   "source": [
    "numOfDiff_Jan21NOx <- ndiffs(ts_Jan21NOx_Smooth_value)\n",
    "numOfDiff_Jan21NOx\n",
    "\n",
    "Jan21NOx_dfFit <- ur.df(ts_Jan21NOx_Smooth_value)\n",
    "#summary(Jan21NOx_dfFit)\n",
    "#plot(Jan21NOx_dfFit)\n",
    "#stationary"
   ]
  },
  {
   "cell_type": "code",
   "execution_count": 7,
   "id": "bcfc3957",
   "metadata": {
    "tags": []
   },
   "outputs": [
    {
     "data": {
      "text/html": [
       "1"
      ],
      "text/latex": [
       "1"
      ],
      "text/markdown": [
       "1"
      ],
      "text/plain": [
       "[1] 1"
      ]
     },
     "metadata": {},
     "output_type": "display_data"
    }
   ],
   "source": [
    "numOfDiff_Jan21SO2 <- ndiffs(ts_Jan21SO2_Smooth_value)\n",
    "numOfDiff_Jan21SO2\n",
    "\n",
    "Jan21SO2_dfFit <- ur.df(ts_Jan21SO2_Smooth_value)\n",
    "#summary(Jan21SO2_dfFit)\n",
    "#plot(Jan21SO2_dfFit)\n",
    "#stationary"
   ]
  },
  {
   "cell_type": "code",
   "execution_count": 8,
   "id": "40673d9a",
   "metadata": {
    "tags": []
   },
   "outputs": [],
   "source": [
    "ts_Jan21PM25_Stationary_value <- ts(ts_Jan21PM25_Smooth_value)\n",
    "ts_Jan21NO_Stationary_value <- ts(ts_Jan21NO_Smooth_value)\n",
    "ts_Jan21NO2_Stationary_value <- ts(diff(ts_Jan21NO2_Smooth_value))\n",
    "ts_Jan21NOx_Stationary_value <- ts(ts_Jan21NOx_Smooth_value)\n",
    "ts_Jan21SO2_Stationary_value <- ts(ts_Jan21SO2_Smooth_value)"
   ]
  },
  {
   "cell_type": "code",
   "execution_count": 28,
   "id": "f20100aa",
   "metadata": {
    "tags": []
   },
   "outputs": [],
   "source": [
    "xts_Jan21PM25_Stationary = xts_Jan21PM25_Smooth\n",
    "xts_Jan21NO_Stationary = xts_Jan21NO_Smooth\n",
    "xts_Jan21NO2_Stationary = xts_Jan21NO2_Smooth\n",
    "xts_Jan21NOx_Stationary = xts_Jan21NOx_Smooth\n",
    "xts_Jan21SO2_Stationary = xts_Jan21SO2_Smooth\n",
    "#xts_Jan21All_Stationary = xts_Jan21All_Smooth\n",
    "\n",
    "\n",
    "xts_Jan21PM25_Stationary[,4] = ts_Jan21PM25_Stationary_value\n",
    "xts_Jan21NO_Stationary[,4] = ts_Jan21NO_Stationary_value\n",
    "len_NO2 = length(xts_Jan21NO2_Stationary[,4]) - 1\n",
    "xts_Jan21NO2_Stationary[0:len_NO2,4] = ts_Jan21NO2_Stationary_value\n",
    "xts_Jan21NOx_Stationary[,4] = ts_Jan21NOx_Stationary_value\n",
    "xts_Jan21SO2_Stationary[,4] = ts_Jan21SO2_Stationary_value\n",
    "\n",
    "#xts_Jan21All_Stationary[,4] = ts_Jan21PM25_Stationary_value\n",
    "#xts_Jan21All_Stationary[,5] = ts_Jan21NO_Stationary_value\n",
    "#xts_Jan21All_Stationary[,6] = ts_Jan21NO2_Stationary_value\n",
    "#xts_Jan21All_Stationary[,7] = ts_Jan21NOx_Stationary_value\n",
    "#xts_Jan21All_Stationary[,8] = ts_Jan21SO2_Stationary_value\n",
    "\n",
    "#xts_Jan21NO2_Stationary[0:10]"
   ]
  },
  {
   "cell_type": "code",
   "execution_count": 29,
   "id": "ce8fdb75",
   "metadata": {
    "tags": []
   },
   "outputs": [
    {
     "name": "stdout",
     "output_type": "stream",
     "text": [
      "[1] \"ARIMA_make_stationary\"\n",
      "[1] \"ts_Jan21PM25_Stationary_value replace PM25\"\n",
      "[1] \"xts_Jan21PM25_Stationary replace PM25\"\n"
     ]
    }
   ],
   "source": [
    "print('ARIMA_make_stationary')\n",
    "print(\"ts_Jan21PM25_Stationary_value replace PM25\")\n",
    "print(\"xts_Jan21PM25_Stationary replace PM25\")\n",
    "#print(\"ts_Jan21PM25_Stationary replace PM25\")"
   ]
  },
  {
   "cell_type": "code",
   "execution_count": null,
   "id": "60c051bd",
   "metadata": {},
   "outputs": [],
   "source": []
  },
  {
   "cell_type": "code",
   "execution_count": 30,
   "id": "bb10957b",
   "metadata": {
    "tags": []
   },
   "outputs": [],
   "source": [
    "\n",
    "p = \"\n",
    "> a = c(1,7,3435,2,7,435,8,8)\n",
    "> d = adf.test(a)\n",
    "Warning message:\n",
    "In adf.test(a) : p-value smaller than printed p-value\n",
    "> d\n",
    "\n",
    "\tAugmented Dickey-Fuller Test\n",
    "\n",
    "data:  a\n",
    "Dickey-Fuller = -6.2455, Lag order = 1, p-value = 0.01\n",
    "alternative hypothesis: stationary\n",
    "\n",
    "> d[p.value]\n",
    "Error: object 'p.value' not found\n",
    "> d['p.value']\n",
    "$p.value\n",
    "[1] 0.01\n",
    "\n",
    "> d['alternative']\n",
    "$alternative\n",
    "[1] 'stationary'\n",
    "\n",
    "> d['statistic']\n",
    "$statistic\n",
    "Dickey-Fuller \n",
    "    -6.245461 \n",
    "\n",
    "> d['method']\n",
    "$method\n",
    "[1] 'Augmented Dickey-Fuller Test'\n",
    "\n",
    "\""
   ]
  },
  {
   "cell_type": "code",
   "execution_count": 31,
   "id": "499471ec",
   "metadata": {
    "tags": []
   },
   "outputs": [],
   "source": [
    "f = 'xts_Jan21NO2_Stationary = xts_Jan21NO2_Smooth\n",
    "xts_Jan21NO2_Stationary[,4] = ts_Jan21NO2_Stationary_value\n",
    "xts_Jan21NO2_Stationary[0:5]\n",
    "\n",
    "length(ts_Jan21NO_Stationary_value)\n",
    "\n",
    "length(ts_Jan21NO2_Stationary_value)\n",
    "\n",
    "ts_Jan21NO_Smooth[0:10]'"
   ]
  },
  {
   "cell_type": "code",
   "execution_count": 32,
   "id": "4a403366",
   "metadata": {
    "tags": []
   },
   "outputs": [],
   "source": [
    "e = 'a:b 1\n",
    "          a:c  2\n",
    "b:c 3\n",
    "          b:d  1\n",
    "c:d 4\n",
    "          c:e  1\n",
    "d:e 5\n",
    "\n",
    "nrow(xts_Jan21NO2_Stationary)\n",
    "\"2021-02-01 00:00:00\" \"2021-02-01 00:00:00\"\n",
    "\n",
    "a = xts_Jan21NO2_Stationary[0:(nrow(xts_Jan21NO2_Stationary)-1)]\n",
    "a[,3] = xts_Jan21NO2_Stationary[2:nrow(xts_Jan21NO2_Stationary),3]\n",
    "a[2:5]\n",
    "a[,1]\n",
    "\n",
    "a = xts_Jan21NO2_Smooth[0:(nrow(xts_Jan21NO2_Smooth)-1)]\n",
    "a[,3] = xts_Jan21NO2_Smooth[2:nrow(xts_Jan21NO2_Smooth),3]\n",
    "a\n",
    "\n",
    "ts_Jan21NO2_Stationary = ts_Jan21NO2_Smooth[0:(nrow(ts_Jan21NO2_Smooth)-1)]\n",
    "#ts_Jan21NO2_Stationary[,3] = ts_Jan21NO2_Smooth[2:nrow(ts_Jan21NO2_Smooth),3]\n",
    "#ts_Jan21NO2_Stationary[,4] = ts_Jan21NO2_Stationary_value\n",
    "\n",
    "length(ts_Jan21NO2_Smooth[2:nrow(ts_Jan21NO2_Smooth),3])\n",
    "ts_Jan21NO2_Smooth[0:10]'"
   ]
  },
  {
   "cell_type": "code",
   "execution_count": 33,
   "id": "e532f541",
   "metadata": {
    "tags": []
   },
   "outputs": [],
   "source": [
    "d = 'ts_Jan21PM25_Stationary <- ts_Jan21PM25_Smooth\n",
    "ts_Jan21PM25_Stationary[,4] = ts_Jan21PM25_Stationary_value\n",
    "\n",
    "ts_Jan21NO_Stationary <- ts_Jan21NO_Smooth\n",
    "ts_Jan21NO_Stationary[,4] = ts_Jan21NO_Stationary_value\n",
    "\n",
    "ts_Jan21NO2_Stationary <- ts_Jan21NO2_Smooth\n",
    "ts_Jan21NO2_Stationary[,4] = ts_Jan21NO2_Stationary_value\n",
    "\n",
    "ts_Jan21NOx_Stationary <- ts_Jan21NOx_Smooth\n",
    "ts_Jan21NOx_Stationary[,4] = ts_Jan21NOx_Stationary_value\n",
    "\n",
    "ts_Jan21SO2_Stationary <- ts_Jan21SO2_Smooth\n",
    "ts_Jan21SO2_Stationary[,4] = ts_Jan21SO2_Stationary_value\n",
    "\n",
    "ts_Jan21All_Stationary <- ts_Jan21All_Smooth\n",
    "ts_Jan21All_Stationary[,4] = ts_Jan21PM25_Stationary_value\n",
    "ts_Jan21All_Stationary[,5] = ts_Jan21NO_Stationary_value\n",
    "ts_Jan21All_Stationary[,6] = ts_Jan21NO2_Stationary_value\n",
    "ts_Jan21All_Stationary[,7] = ts_Jan21NOx_Stationary_value\n",
    "ts_Jan21All_Stationary[,8] = ts_Jan21SO2_Stationary_value'"
   ]
  },
  {
   "cell_type": "code",
   "execution_count": 34,
   "id": "3da1a01e",
   "metadata": {
    "tags": []
   },
   "outputs": [],
   "source": [
    "a = \n",
    "'\n",
    "Augmented Dickey-Fuller Test\n",
    "p-value - the prob that data has a unit root/non-stationary\n",
    "If p-value is above a critical size, then not stationary.\n",
    "Significant value is 0.05 means 5 percent.\n",
    "If p-value is close to significant, then crit values should be used to judge.\n",
    "\n",
    "p-value - the prob that null hypo is true. This means data has a unit root/non-stationary.\n",
    "\n",
    "It is better for p-value to be smaller than 0.05 to consider data a stationary.\n",
    "\n",
    "if Test-Statistic < Critical Values means reject null hypothesis - means data is stationary.\n",
    "if Test-Statistic > Critical Values means failed to reject null hypothesis\n",
    "\n",
    "\n",
    "\n",
    "\n",
    "If p-value is above a critical size, then not stationary.\n",
    "Significant value is 0.05 means 5 percent.\n",
    "If p-value is close to significant, then crit values should be used to judge.\n",
    "\n",
    "\n",
    "IMPORTANT\n",
    "Here, we noticed that statistic test value is greater than critical value.\n",
    "p-value is also greater than significant value(0.05). \n",
    "So we can say the time series is non-stationary.\n",
    "\n",
    "'\n",
    "\n",
    "b = \n",
    "'\n",
    "for kpss - null hypo - it is trend stationary\n",
    "opp. of adfuller\n",
    "p-value - prob that it is stationary.\n",
    "\n",
    "'"
   ]
  },
  {
   "cell_type": "code",
   "execution_count": 35,
   "id": "c24170e0",
   "metadata": {
    "tags": []
   },
   "outputs": [],
   "source": [
    "c = \n",
    "'\n",
    "#test = c(\"kpss\", \"adf\", \"pp\"),\n",
    "ndiffs(ts_Jan21SO2_Smooth_value)\n",
    "\n",
    "numOfDiff_Jan21NO2 <- ndiffs(ts_Jan21NO2_Smooth_value)\n",
    "numOfDiff_Jan21NO2\n",
    "\n",
    "Jan21NO2_dfFit <- ur.df(ts_Jan21NO2_Smooth_value)\n",
    "summary(Jan21NO2_dfFit)\n",
    "plot(Jan21NO2_dfFit)\n",
    "#close\n",
    "\n",
    "numOfDiff_Jan21NO2 <- ndiffs(diff(ts_Jan21NO2_Smooth_value))\n",
    "numOfDiff_Jan21NO2\n",
    "\n",
    "Jan21NO2_dfFit <- ur.df(diff(ts_Jan21NO2_Smooth_value))\n",
    "summary(Jan21NO2_dfFit)\n",
    "plot(Jan21NO2_dfFit)\n",
    "#close\n",
    "\n",
    "numOfDiff_Jan21All <- ndiffs(ts_Jan21All_Smooth_value)\n",
    "numOfDiff_Jan21All\n",
    "\n",
    "Jan21All_dfFit <- ur.df(ts_Jan21All_Smooth_value)\n",
    "summary(Jan21All_dfFit)\n",
    "plot(Jan21All_dfFit)\n",
    "#check\n",
    "\n",
    "Jan21PM25_dfFit <- kpss.test(ts_Jan21PM25_Smooth_value)\n",
    "Jan21PM25_dfFit\n",
    "\n",
    "Jan21NO2_dfFit <- adf.test(ts_Jan21NO2_Smooth_value)\n",
    "Jan21NO2_dfFit\n",
    "\n",
    "\n",
    "a <- (coredata(xts_Jan21PM25_Smooth))\n",
    "a\n",
    "'"
   ]
  },
  {
   "cell_type": "code",
   "execution_count": null,
   "id": "81a2946f",
   "metadata": {},
   "outputs": [],
   "source": []
  },
  {
   "cell_type": "code",
   "execution_count": null,
   "id": "9fa4ca6d",
   "metadata": {},
   "outputs": [],
   "source": []
  }
 ],
 "metadata": {
  "kernelspec": {
   "display_name": "R",
   "language": "R",
   "name": "ir"
  },
  "language_info": {
   "codemirror_mode": "r",
   "file_extension": ".r",
   "mimetype": "text/x-r-source",
   "name": "R",
   "pygments_lexer": "r",
   "version": "4.3.1"
  }
 },
 "nbformat": 4,
 "nbformat_minor": 5
}
